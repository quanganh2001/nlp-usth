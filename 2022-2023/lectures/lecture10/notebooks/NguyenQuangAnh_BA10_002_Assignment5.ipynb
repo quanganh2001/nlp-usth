{
  "cells": [
    {
      "attachments": {},
      "cell_type": "markdown",
      "metadata": {
        "id": "U94KiNBLNi_w"
      },
      "source": [
        "# Customized RNN model for sequence classification\n",
        "\n",
        "Your name: Nguyen Quang Anh\n",
        "\n",
        "Student ID: BA10-002\n",
        "\n",
        "**Due: March 27, 2023 (Hard Deadline)**\n",
        "\n",
        "*This is an optional (bonus) assignment*\n",
        "\n",
        "## How to submit\n",
        "\n",
        "- Attach notebook file (.ipynb) and submit your work to Google Class Room \n",
        "- Name your file as YourName_StudentID_Assignment5.ibynb. E.g., Nguyen_Van_A_ST099834_Assignment5.ipynb\n",
        "- Write your name and student ID into this notebook\n",
        "- Copying others' assignments is strictly prohibited.\n",
        "\n",
        "## Policy\n",
        "\n",
        "- I only grade submissions which can run successfully without syntax and run-time errors\n",
        "- Please run your notebook on Google Colab or Kaggle notebook.\n",
        "- You can change epochs to 5 to save time\n"
      ]
    },
    {
      "cell_type": "markdown",
      "metadata": {
        "id": "NV4MB9rHurDR"
      },
      "source": [
        "## Description\n",
        "\n",
        "In this assignment, we are going to build a customized RNN model for text classification. That is the extended version for the notebook [RNN for Sequence Classification](https://colab.research.google.com/drive/1qkRmcd5PI5ISWScdD0BovDSvgYYkruVc?usp=sharing).\n",
        "\n",
        "The tasks in this assignment is as follows.\n",
        "\n",
        "- Initialize Embedding layer in the RNN model with pre-trained word embeddings\n",
        "- Modify the training loop to print out averaged loss function value after each epoch."
      ]
    },
    {
      "cell_type": "markdown",
      "metadata": {
        "id": "o6dAPAEAutW5"
      },
      "source": [
        "## Set random seed"
      ]
    },
    {
      "cell_type": "code",
      "execution_count": 1,
      "metadata": {
        "colab": {
          "base_uri": "https://localhost:8080/"
        },
        "id": "WCNsWVG0u4GW",
        "outputId": "986bac14-dd74-4604-d0f9-963e57d33536"
      },
      "outputs": [
        {
          "data": {
            "text/plain": [
              "<torch._C.Generator at 0x7fad28957c90>"
            ]
          },
          "execution_count": 1,
          "metadata": {},
          "output_type": "execute_result"
        }
      ],
      "source": [
        "import torch\n",
        "import torch.nn as nn\n",
        "import torch.nn.functional as F\n",
        "import torch.optim as optim\n",
        "\n",
        "torch.manual_seed(1)"
      ]
    },
    {
      "cell_type": "markdown",
      "metadata": {
        "id": "PpLv0rGSu4vX"
      },
      "source": [
        "## Download & load data"
      ]
    },
    {
      "cell_type": "code",
      "execution_count": 2,
      "metadata": {
        "id": "J0r44Yacu9WD"
      },
      "outputs": [],
      "source": [
        "%%capture\n",
        "!rm -f titles-en-train.labeled\n",
        "!rm -f titles-en-test.labeled\n",
        "\n",
        "!wget https://raw.githubusercontent.com/neubig/nlptutorial/master/data/titles-en-train.labeled\n",
        "!wget https://raw.githubusercontent.com/neubig/nlptutorial/master/data/titles-en-test.labeled"
      ]
    },
    {
      "cell_type": "code",
      "execution_count": 3,
      "metadata": {
        "id": "Jy3PbYn7vDJw"
      },
      "outputs": [],
      "source": [
        "def load_data(file_path):\n",
        "    data = []\n",
        "    with open(file_path, 'r', encoding='utf-8', errors='ignore') as f:\n",
        "        for line in f:\n",
        "            line = line.strip()\n",
        "            if line == '':\n",
        "                continue\n",
        "            lb, text = line.split('\\t')\n",
        "            data.append((text,int(lb)))\n",
        "            \n",
        "    return data\n",
        "\n",
        "train_data = load_data('./titles-en-train.labeled')\n",
        "test_data = load_data('./titles-en-test.labeled')\n",
        "\n",
        "train_docs, train_labels = zip(*train_data)\n",
        "test_docs, test_labels = zip(*test_data)"
      ]
    },
    {
      "cell_type": "markdown",
      "metadata": {
        "id": "niLadkNyvGOL"
      },
      "source": [
        "## Data Transformation"
      ]
    },
    {
      "cell_type": "markdown",
      "metadata": {
        "id": "HfmaqTSOvPNE"
      },
      "source": [
        "### Vocabulary\n"
      ]
    },
    {
      "cell_type": "code",
      "execution_count": 4,
      "metadata": {
        "id": "oFJaSFy7vMCY"
      },
      "outputs": [],
      "source": [
        "from collections import defaultdict\n",
        "\n",
        "class Vocabulary:\n",
        "    def __init__(self, token_to_idx=None):\n",
        "        \"\"\"\n",
        "        Args:\n",
        "            token_to_idx (dict): a pre-existing map of tokens to indices\n",
        "        \"\"\"\n",
        "        if token_to_idx is None:\n",
        "            token_to_idx = {}\n",
        "        self._token_to_idx = token_to_idx\n",
        "\n",
        "        self._idx_to_token = {idx: token \n",
        "                              for token, idx in self._token_to_idx.items()}\n",
        "        \n",
        "        self.pad_index = 0\n",
        "        self.unk_index = 1\n",
        "\n",
        "    def lookup_token(self, token):\n",
        "        \"\"\"Retrieve the index associated with the token \n",
        "          or the UNK index if token isn't present.\n",
        "        \n",
        "        Args:\n",
        "            token (str): the token to look up \n",
        "        Returns:\n",
        "            index (int): the index corresponding to the token\n",
        "        Notes:\n",
        "            `unk_index` needs to be >=0 (having been added into the Vocabulary) \n",
        "              for the UNK functionality \n",
        "        \"\"\"\n",
        "        if self.unk_index >= 0:\n",
        "            return self._token_to_idx.get(token, self.unk_index)\n",
        "        else:\n",
        "            return self._token_to_idx[token]\n",
        "    \n",
        "    def lookup_index(self, index):\n",
        "        \"\"\"Return the token associated with the index\n",
        "        \n",
        "        Args: \n",
        "            index (int): the index to look up\n",
        "        Returns:\n",
        "            token (str): the token corresponding to the index\n",
        "        Raises:\n",
        "            KeyError: if the index is not in the Vocabulary\n",
        "        \"\"\"\n",
        "        if index not in self._idx_to_token:\n",
        "            raise KeyError(\"the index (%d) is not in the Vocabulary\" % index)\n",
        "        return self._idx_to_token[index]\n",
        "    \n",
        "    def add_token(self, token):\n",
        "        \"\"\"Update mapping dicts based on the token.\n",
        "\n",
        "        Args:\n",
        "            token (str): the item to add into the Vocabulary\n",
        "        Returns:\n",
        "            index (int): the integer corresponding to the token\n",
        "        \"\"\"\n",
        "        if token in self._token_to_idx:\n",
        "            index = self._token_to_idx[token]\n",
        "        else:\n",
        "            index = len(self._token_to_idx)\n",
        "            self._token_to_idx[token] = index\n",
        "            self._idx_to_token[index] = token\n",
        "        return index\n",
        "\n",
        "    @classmethod\n",
        "    def build_vocab(cls, sentences):\n",
        "        \"\"\"Build vocabulary from a list of sentences\n",
        "\n",
        "        Arguments:\n",
        "        ----------\n",
        "            sentences (list): list of sentences, each sentence is a string\n",
        "        \n",
        "        Return:\n",
        "        ----------\n",
        "            vocab (Vocabulary): a Vocabulary object\n",
        "        \"\"\"\n",
        "        token_to_idx = {\"<PAD>\": 0, \"<UNK>\": 1}\n",
        "        vocab = cls(token_to_idx)\n",
        "\n",
        "        for s in sentences:\n",
        "            for word in s.split():\n",
        "                vocab.add_token(word)\n",
        "        return vocab\n",
        "\n",
        "    def __str__(self):\n",
        "        return \"<Vocabulary(size=%d)>\" % len(self)\n",
        "\n",
        "    def __len__(self):\n",
        "        return len(self._token_to_idx)"
      ]
    },
    {
      "cell_type": "code",
      "execution_count": 5,
      "metadata": {
        "colab": {
          "base_uri": "https://localhost:8080/"
        },
        "id": "LhLikk2evRld",
        "outputId": "418893b8-7b29-473d-f7ba-c8f9be56a3c7"
      },
      "outputs": [
        {
          "name": "stdout",
          "output_type": "stream",
          "text": [
            "<Vocabulary(size=27192)>\n"
          ]
        }
      ],
      "source": [
        "vocab = Vocabulary.build_vocab(train_docs)\n",
        "print(vocab)"
      ]
    },
    {
      "cell_type": "markdown",
      "metadata": {
        "id": "R2QEmVakvVRG"
      },
      "source": [
        "### Data Vectorization"
      ]
    },
    {
      "cell_type": "code",
      "execution_count": 6,
      "metadata": {
        "id": "M3iOVIFevXQ_"
      },
      "outputs": [],
      "source": [
        "import torch\n",
        "import numpy as np\n",
        "\n",
        "def vectorize(vocab, title):\n",
        "    \"\"\"\n",
        "    Args:\n",
        "        vocab (Vocabulary)\n",
        "        title (str): the string of characters\n",
        "        max_length (int): an argument for forcing the length of index vector\n",
        "    \"\"\"\n",
        "    indices = [vocab.lookup_token(token) for token in title.split()]\n",
        "    \n",
        "    return torch.tensor(indices)"
      ]
    },
    {
      "cell_type": "code",
      "execution_count": 7,
      "metadata": {
        "id": "KwGbrINhvZUx"
      },
      "outputs": [],
      "source": [
        "train_data = [vectorize(vocab, t) for t in train_docs]\n",
        "test_data = [vectorize(vocab, t) for t in test_docs]"
      ]
    },
    {
      "cell_type": "markdown",
      "metadata": {
        "id": "4-CR6Eaxve-K"
      },
      "source": [
        "### Label Mapping"
      ]
    },
    {
      "cell_type": "code",
      "execution_count": 8,
      "metadata": {
        "id": "k1Gg2YzIvfgd"
      },
      "outputs": [],
      "source": [
        "label2idx = {\n",
        "    -1: 0, 1: 1\n",
        "}\n",
        "train_y = [label2idx[lb] for lb in train_labels]\n",
        "test_y = [label2idx[lb] for lb in test_labels]"
      ]
    },
    {
      "cell_type": "markdown",
      "metadata": {
        "id": "naK37_unvgnV"
      },
      "source": [
        "### Dataset class\n",
        "\n",
        "In order to put data into DataLoader, we need to implement a custom Dataset class that inherite [Dataset class](https://pytorch.org/tutorials/beginner/basics/data_tutorial.html)\n",
        "\n",
        "It is required to implement two functions `__len__` and `__getitem__`"
      ]
    },
    {
      "cell_type": "code",
      "execution_count": 9,
      "metadata": {
        "id": "2h9Odv5Vvi6R"
      },
      "outputs": [],
      "source": [
        "from torch.utils.data import Dataset, DataLoader\n",
        "\n",
        "class TextDataset(Dataset):\n",
        "\n",
        "    def __init__(self, sequences, labels):\n",
        "        self.sequences = sequences\n",
        "        self.labels = labels\n",
        "    \n",
        "    def __len__(self):\n",
        "        return len(self.labels)\n",
        "    \n",
        "    def __getitem__(self, index):\n",
        "        x = self.sequences[index]\n",
        "        y = self.labels[index]\n",
        "\n",
        "        return x, y"
      ]
    },
    {
      "cell_type": "code",
      "execution_count": 10,
      "metadata": {
        "id": "J8PCcdzDvkjN"
      },
      "outputs": [],
      "source": [
        "train_dataset = TextDataset(train_data, train_y)\n",
        "test_dataset = TextDataset(test_data, test_y)"
      ]
    },
    {
      "cell_type": "markdown",
      "metadata": {
        "id": "1Zi-UZZvvmsg"
      },
      "source": [
        "### Create DataLoader\n",
        "\n",
        "We need to define function for processing batches generated by DataLoader"
      ]
    },
    {
      "cell_type": "code",
      "execution_count": 11,
      "metadata": {
        "id": "qmOiBKSbvpT7"
      },
      "outputs": [],
      "source": [
        "from torch.nn.utils.rnn import pad_sequence\n",
        "\n",
        "def collate_batch(batch):\n",
        "    \"\"\"Processing a batch generated by DataLoader\n",
        "\n",
        "    Arguments:\n",
        "    -----\n",
        "        batch (torch.tensor): a tensor generated by DataLoader\n",
        "    \"\"\"\n",
        "    (x, y) = zip(*batch)\n",
        "    x_lens = torch.tensor([len(x) for x in x])\n",
        "    y = torch.tensor(y, dtype=torch.float32)\n",
        "    \n",
        "    x_pad = pad_sequence(x, batch_first=True, padding_value=0)\n",
        "\n",
        "    return x_pad, x_lens, y"
      ]
    },
    {
      "cell_type": "markdown",
      "metadata": {
        "id": "BQ7s9cYxvqcz"
      },
      "source": [
        "## Part 1: Creating Embedding Matrix from Pre-trained Glove (50 points)\n",
        "\n",
        "What you need to do is to create an embedding matrix which is a tensor with shape (vocab_size, embedidng_size). Row $i$ in the matrix is the word vector for the word of the index $i$ in the vocabulary. We are going to get those word vectors from pre-trained word vectors.\n",
        "\n",
        "We will download the pre-trained word vectors using gensim."
      ]
    },
    {
      "cell_type": "code",
      "execution_count": 12,
      "metadata": {
        "colab": {
          "base_uri": "https://localhost:8080/"
        },
        "id": "ECtVPGQ5vw5i",
        "outputId": "7e44f2e4-4f0e-4ba6-b197-9c91bb1b7cc5"
      },
      "outputs": [
        {
          "name": "stdout",
          "output_type": "stream",
          "text": [
            "[=================================================-] 99.1% 372.5/376.1MB downloaded\n"
          ]
        }
      ],
      "source": [
        "import gensim.downloader as api\n",
        "wv = api.load('glove-wiki-gigaword-300')"
      ]
    },
    {
      "cell_type": "markdown",
      "metadata": {
        "id": "3_v55qLZ0Bsa"
      },
      "source": [
        "**You will need to implement the following function**\n",
        "\n",
        "Note that: words in glove model are lower-cases, so to get the vector for a word, such as \"King\", we need to convert the word into lower case first. For instance\n",
        "\n",
        "```\n",
        "print( wv[\"King\".lower()] )\n",
        "```\n",
        "\n",
        "For words in the Vocabulary but not in pre-trained word vector model, we will assign random values by:\n",
        "\n",
        "```\n",
        "torch.randn(emb_dim)\n",
        "```"
      ]
    },
    {
      "cell_type": "code",
      "execution_count": 13,
      "metadata": {
        "id": "WF5MnJ_T0bo5"
      },
      "outputs": [],
      "source": [
        "def create_embedding_matrix(wv, word_to_idx, emb_dim=300):\n",
        "    \"\"\"Create embedding matrix\n",
        "\n",
        "    Args:\n",
        "        wv: word vector model loaded from gensim\n",
        "        word_to_idx (dict): Map from a word into index in the vocab\n",
        "        emb_dim (int): Embedding size\n",
        "    \n",
        "    Returns:\n",
        "        embedding_matrix: a Torch tensor with size (vocab_size, emb_dim)\n",
        "    \"\"\"\n",
        "    vocab_size = len(word_to_idx)\n",
        "    embedding_matrix = torch.zeros(vocab_size, emb_dim)\n",
        "\n",
        "    #TODO: Write your code here\n",
        "    for word, idx in word_to_idx.items():\n",
        "        if word in wv.key_to_index:\n",
        "            embedding_matrix[idx] = torch.tensor(wv.get_vector(word.lower()))\n",
        "        else:\n",
        "            embedding_matrix[idx] = torch.randn(emb_dim)\n",
        "    \n",
        "    return embedding_matrix"
      ]
    },
    {
      "cell_type": "markdown",
      "metadata": {
        "id": "PknI_VBz3c4i"
      },
      "source": [
        "After that, create an embedding matrix"
      ]
    },
    {
      "cell_type": "code",
      "execution_count": 14,
      "metadata": {
        "id": "tYxbd6uf3f5B"
      },
      "outputs": [],
      "source": [
        "word_to_idx = vocab._token_to_idx\n",
        "embedding_matrix = create_embedding_matrix(wv, word_to_idx)"
      ]
    },
    {
      "cell_type": "markdown",
      "metadata": {
        "id": "FH8dfnHz2nGJ"
      },
      "source": [
        "## RNN Model\n",
        "\n",
        "We just modify the model to initialize word embedding layer by pre-trained word vectors."
      ]
    },
    {
      "cell_type": "code",
      "execution_count": 15,
      "metadata": {
        "id": "sVIqXt8o22Vf"
      },
      "outputs": [],
      "source": [
        "import torch.nn as nn\n",
        "from torch.nn.utils.rnn import pack_padded_sequence, pad_packed_sequence\n",
        "\n",
        "class TextClassifier(nn.Module):\n",
        "\n",
        "    def __init__(self, embedding_matrix, rnn_hidden_size, num_classes,\n",
        "                 num_layers=1, batch_first=True, padding_idx=0):\n",
        "        \n",
        "        super(TextClassifier, self).__init__()\n",
        "\n",
        "        vocab_size, embedding_size = embedding_matrix.shape\n",
        "\n",
        "        self.emb = nn.Embedding.from_pretrained(embedding_matrix, freeze=False, padding_idx=0)\n",
        "        # Use Bidirectional LSTM\n",
        "        self.rnn = nn.LSTM(input_size=embedding_size, hidden_size=rnn_hidden_size,\n",
        "                          batch_first=batch_first, num_layers=num_layers, bidirectional=True)\n",
        "        self.fc = nn.Linear(in_features=2*rnn_hidden_size, out_features=num_classes)\n",
        "\n",
        "    def forward(self, x_in, x_lens):\n",
        "        x_embed = self.emb(x_in)\n",
        "        x_packed = pack_padded_sequence(x_embed, x_lens, batch_first=True, enforce_sorted=False)\n",
        "        _, (hidden_state, _) = self.rnn(x_packed)\n",
        "\n",
        "        # Concatenating the final forward and backward hidden states\n",
        "        hidden = torch.cat((hidden_state[-2,:,:], hidden_state[-1,:,:]), dim = 1)\n",
        "\n",
        "        logits = torch.sigmoid(self.fc(hidden))\n",
        "        return logits"
      ]
    },
    {
      "cell_type": "markdown",
      "metadata": {
        "id": "l0Rj3pC53CwR"
      },
      "source": [
        "## Part 2: Customized Training loop (50 points)\n",
        "\n",
        "Modify the training loss to print-out averaged loss function after each epoch"
      ]
    },
    {
      "cell_type": "code",
      "execution_count": 16,
      "metadata": {
        "colab": {
          "base_uri": "https://localhost:8080/",
          "height": 136,
          "referenced_widgets": [
            "058ad30997464680890d65320b7b87c8",
            "646d95d4698c40de9894fc6a4b5b9aaf",
            "ff896cb0ab1447faa052dda25bff1e7f",
            "402ff618547d43b982042c2e8333f795",
            "a3c5744e91c24faab195c5ef84ad5e6b",
            "a635fe0c0794449ca80f97f200beb039",
            "d2950e4822db4df69510bd1a22f0f925",
            "f310bd3ad9894622a5f0b13cc46b8473",
            "54942edaf17c469b9d455625403c5843",
            "e55a405807ea48db971295026c850a92",
            "cff187f26cc5434aa6fb36e16fb7b5c1"
          ]
        },
        "id": "P129p8Rl3Owb",
        "outputId": "e6cdcaa1-4d92-4656-8948-51803e988108"
      },
      "outputs": [
        {
          "data": {
            "application/vnd.jupyter.widget-view+json": {
              "model_id": "058ad30997464680890d65320b7b87c8",
              "version_major": 2,
              "version_minor": 0
            },
            "text/plain": [
              "Epoch:   0%|          | 0/5 [00:00<?, ?it/s]"
            ]
          },
          "metadata": {},
          "output_type": "display_data"
        },
        {
          "name": "stdout",
          "output_type": "stream",
          "text": [
            "Epoch [1/5] - Average Loss: 0.2202\n",
            "Epoch [2/5] - Average Loss: 0.0992\n",
            "Epoch [3/5] - Average Loss: 0.0327\n",
            "Epoch [4/5] - Average Loss: 0.0086\n",
            "Epoch [5/5] - Average Loss: 0.0043\n"
          ]
        }
      ],
      "source": [
        "from tqdm.notebook import trange, tqdm\n",
        "\n",
        "rnn_hidden_size = 128\n",
        "num_layers=1\n",
        "num_classes = 1\n",
        "batch_first = True\n",
        "\n",
        "model = TextClassifier(embedding_matrix,\n",
        "                       rnn_hidden_size=rnn_hidden_size,\n",
        "                       num_classes=num_classes, \n",
        "                       batch_first=batch_first, num_layers=num_layers)\n",
        "\n",
        "device = torch.device('cuda' if torch.cuda.is_available() else 'cpu')  \n",
        "\n",
        "learning_rate = 1e-3\n",
        "batch_size = 16\n",
        "\n",
        "# You can change epochs to 5 to save time\n",
        "epochs = 5\n",
        "\n",
        "criterion = torch.nn.BCELoss()\n",
        "optimizer = torch.optim.Adam(model.parameters(), lr=learning_rate)\n",
        "model.to(device)\n",
        "\n",
        "def train():\n",
        "    train_dataloader = DataLoader(\n",
        "        train_dataset,\n",
        "        collate_fn=collate_batch,\n",
        "        batch_size=batch_size,\n",
        "    )\n",
        "    model.train()\n",
        "    train_iterator = trange(int(epochs), desc=\"Epoch\")\n",
        "\n",
        "    for epoch in train_iterator:\n",
        "        epoch_loss = 0\n",
        "        num_batches = 0\n",
        "\n",
        "        for x_in, x_lens, y in train_dataloader:\n",
        "            x_in = x_in.to(device)\n",
        "            y = y.to(device)\n",
        "\n",
        "            optimizer.zero_grad()\n",
        "            pred = model(x_in, x_lens).squeeze()\n",
        "            loss = criterion(pred, y)\n",
        "            loss.backward()\n",
        "            optimizer.step()\n",
        "\n",
        "            #TODO: Write code to add the loss value to epoch_loss and increase num_batches\n",
        "            epoch_loss += loss.item()\n",
        "            num_batches += 1\n",
        "\n",
        "        avg_epoch_loss = epoch_loss / num_batches\n",
        "        print(f\"Epoch [{epoch + 1}/{epochs}] - Average Loss: {avg_epoch_loss:.4f}\")\n",
        "\n",
        "train()"
      ]
    },
    {
      "cell_type": "markdown",
      "metadata": {
        "id": "oL2zyXS64ViK"
      },
      "source": [
        "## Evaluation\n",
        "\n",
        "If there are no bug in your code, you should be able to calcuate evaluation metrics on the test data."
      ]
    },
    {
      "cell_type": "code",
      "execution_count": 17,
      "metadata": {
        "colab": {
          "base_uri": "https://localhost:8080/",
          "height": 205,
          "referenced_widgets": [
            "f2756ef8aaef4285b38a5c3a50ee5b65",
            "a95a6a48293c4896b48c95b767e8e4e8",
            "49e52bbf59b14af7a61c6b86e7f3fee9",
            "1f236981e56b4f33ac62250fdbc6890e",
            "20210a7ddba145efbc1c6f356ae17568",
            "fde9e0851c7841ea95b3e1091a3ffa35",
            "4fc4bb27337549f6a9ff8520f3cca583",
            "54f15afacc3b4faeac8a3b1e2feef509",
            "194601eea9d34bad83cb54e0a3f5c7f6",
            "de26fb4375bf469f868d83a9b5586cc9",
            "ecf46fcdc1ac4d8c977ee7cb462a5963"
          ]
        },
        "id": "5JUpL6es4XbM",
        "outputId": "7e92cb94-bc21-44d8-cc0e-31396dd28e06"
      },
      "outputs": [
        {
          "data": {
            "application/vnd.jupyter.widget-view+json": {
              "model_id": "f2756ef8aaef4285b38a5c3a50ee5b65",
              "version_major": 2,
              "version_minor": 0
            },
            "text/plain": [
              "Evaluating:   0%|          | 0/177 [00:00<?, ?it/s]"
            ]
          },
          "metadata": {},
          "output_type": "display_data"
        },
        {
          "name": "stdout",
          "output_type": "stream",
          "text": [
            "              precision    recall  f1-score   support\n",
            "\n",
            "         0.0       0.95      0.81      0.87      1477\n",
            "         1.0       0.82      0.96      0.88      1346\n",
            "\n",
            "    accuracy                           0.88      2823\n",
            "   macro avg       0.89      0.88      0.88      2823\n",
            "weighted avg       0.89      0.88      0.88      2823\n",
            "\n"
          ]
        }
      ],
      "source": [
        "from sklearn import metrics\n",
        "\n",
        "def evaluate():\n",
        "    model.eval()\n",
        "    test_dataloader = DataLoader(\n",
        "        test_dataset,\n",
        "        collate_fn=collate_batch,\n",
        "        shuffle=False,\n",
        "        batch_size=batch_size,\n",
        "    )\n",
        "\n",
        "    preds = []\n",
        "    true_labels = []\n",
        "    with torch.no_grad():\n",
        "        for x_in, x_lens, y in tqdm(test_dataloader, desc=\"Evaluating\"):\n",
        "            x_in = x_in.to(device)\n",
        "            y = y.to(device)\n",
        "\n",
        "            logits = model(x_in, x_lens).squeeze()\n",
        "            _preds = (logits>0.5).type(torch.long)\n",
        "            preds += _preds.detach().cpu().numpy().tolist()\n",
        "            true_labels += y.detach().cpu().numpy().tolist()\n",
        "\n",
        "    print(metrics.classification_report(true_labels, preds))\n",
        "\n",
        "evaluate()"
      ]
    }
  ],
  "metadata": {
    "accelerator": "GPU",
    "colab": {
      "provenance": []
    },
    "gpuClass": "standard",
    "kernelspec": {
      "display_name": "Python 3",
      "name": "python3"
    },
    "language_info": {
      "name": "python"
    },
    "widgets": {
      "application/vnd.jupyter.widget-state+json": {
        "058ad30997464680890d65320b7b87c8": {
          "model_module": "@jupyter-widgets/controls",
          "model_module_version": "1.5.0",
          "model_name": "HBoxModel",
          "state": {
            "_dom_classes": [],
            "_model_module": "@jupyter-widgets/controls",
            "_model_module_version": "1.5.0",
            "_model_name": "HBoxModel",
            "_view_count": null,
            "_view_module": "@jupyter-widgets/controls",
            "_view_module_version": "1.5.0",
            "_view_name": "HBoxView",
            "box_style": "",
            "children": [
              "IPY_MODEL_646d95d4698c40de9894fc6a4b5b9aaf",
              "IPY_MODEL_ff896cb0ab1447faa052dda25bff1e7f",
              "IPY_MODEL_402ff618547d43b982042c2e8333f795"
            ],
            "layout": "IPY_MODEL_a3c5744e91c24faab195c5ef84ad5e6b"
          }
        },
        "194601eea9d34bad83cb54e0a3f5c7f6": {
          "model_module": "@jupyter-widgets/controls",
          "model_module_version": "1.5.0",
          "model_name": "ProgressStyleModel",
          "state": {
            "_model_module": "@jupyter-widgets/controls",
            "_model_module_version": "1.5.0",
            "_model_name": "ProgressStyleModel",
            "_view_count": null,
            "_view_module": "@jupyter-widgets/base",
            "_view_module_version": "1.2.0",
            "_view_name": "StyleView",
            "bar_color": null,
            "description_width": ""
          }
        },
        "1f236981e56b4f33ac62250fdbc6890e": {
          "model_module": "@jupyter-widgets/controls",
          "model_module_version": "1.5.0",
          "model_name": "HTMLModel",
          "state": {
            "_dom_classes": [],
            "_model_module": "@jupyter-widgets/controls",
            "_model_module_version": "1.5.0",
            "_model_name": "HTMLModel",
            "_view_count": null,
            "_view_module": "@jupyter-widgets/controls",
            "_view_module_version": "1.5.0",
            "_view_name": "HTMLView",
            "description": "",
            "description_tooltip": null,
            "layout": "IPY_MODEL_de26fb4375bf469f868d83a9b5586cc9",
            "placeholder": "​",
            "style": "IPY_MODEL_ecf46fcdc1ac4d8c977ee7cb462a5963",
            "value": " 177/177 [00:00&lt;00:00, 416.97it/s]"
          }
        },
        "20210a7ddba145efbc1c6f356ae17568": {
          "model_module": "@jupyter-widgets/base",
          "model_module_version": "1.2.0",
          "model_name": "LayoutModel",
          "state": {
            "_model_module": "@jupyter-widgets/base",
            "_model_module_version": "1.2.0",
            "_model_name": "LayoutModel",
            "_view_count": null,
            "_view_module": "@jupyter-widgets/base",
            "_view_module_version": "1.2.0",
            "_view_name": "LayoutView",
            "align_content": null,
            "align_items": null,
            "align_self": null,
            "border": null,
            "bottom": null,
            "display": null,
            "flex": null,
            "flex_flow": null,
            "grid_area": null,
            "grid_auto_columns": null,
            "grid_auto_flow": null,
            "grid_auto_rows": null,
            "grid_column": null,
            "grid_gap": null,
            "grid_row": null,
            "grid_template_areas": null,
            "grid_template_columns": null,
            "grid_template_rows": null,
            "height": null,
            "justify_content": null,
            "justify_items": null,
            "left": null,
            "margin": null,
            "max_height": null,
            "max_width": null,
            "min_height": null,
            "min_width": null,
            "object_fit": null,
            "object_position": null,
            "order": null,
            "overflow": null,
            "overflow_x": null,
            "overflow_y": null,
            "padding": null,
            "right": null,
            "top": null,
            "visibility": null,
            "width": null
          }
        },
        "402ff618547d43b982042c2e8333f795": {
          "model_module": "@jupyter-widgets/controls",
          "model_module_version": "1.5.0",
          "model_name": "HTMLModel",
          "state": {
            "_dom_classes": [],
            "_model_module": "@jupyter-widgets/controls",
            "_model_module_version": "1.5.0",
            "_model_name": "HTMLModel",
            "_view_count": null,
            "_view_module": "@jupyter-widgets/controls",
            "_view_module_version": "1.5.0",
            "_view_name": "HTMLView",
            "description": "",
            "description_tooltip": null,
            "layout": "IPY_MODEL_e55a405807ea48db971295026c850a92",
            "placeholder": "​",
            "style": "IPY_MODEL_cff187f26cc5434aa6fb36e16fb7b5c1",
            "value": " 5/5 [00:35&lt;00:00,  6.97s/it]"
          }
        },
        "49e52bbf59b14af7a61c6b86e7f3fee9": {
          "model_module": "@jupyter-widgets/controls",
          "model_module_version": "1.5.0",
          "model_name": "FloatProgressModel",
          "state": {
            "_dom_classes": [],
            "_model_module": "@jupyter-widgets/controls",
            "_model_module_version": "1.5.0",
            "_model_name": "FloatProgressModel",
            "_view_count": null,
            "_view_module": "@jupyter-widgets/controls",
            "_view_module_version": "1.5.0",
            "_view_name": "ProgressView",
            "bar_style": "success",
            "description": "",
            "description_tooltip": null,
            "layout": "IPY_MODEL_54f15afacc3b4faeac8a3b1e2feef509",
            "max": 177,
            "min": 0,
            "orientation": "horizontal",
            "style": "IPY_MODEL_194601eea9d34bad83cb54e0a3f5c7f6",
            "value": 177
          }
        },
        "4fc4bb27337549f6a9ff8520f3cca583": {
          "model_module": "@jupyter-widgets/controls",
          "model_module_version": "1.5.0",
          "model_name": "DescriptionStyleModel",
          "state": {
            "_model_module": "@jupyter-widgets/controls",
            "_model_module_version": "1.5.0",
            "_model_name": "DescriptionStyleModel",
            "_view_count": null,
            "_view_module": "@jupyter-widgets/base",
            "_view_module_version": "1.2.0",
            "_view_name": "StyleView",
            "description_width": ""
          }
        },
        "54942edaf17c469b9d455625403c5843": {
          "model_module": "@jupyter-widgets/controls",
          "model_module_version": "1.5.0",
          "model_name": "ProgressStyleModel",
          "state": {
            "_model_module": "@jupyter-widgets/controls",
            "_model_module_version": "1.5.0",
            "_model_name": "ProgressStyleModel",
            "_view_count": null,
            "_view_module": "@jupyter-widgets/base",
            "_view_module_version": "1.2.0",
            "_view_name": "StyleView",
            "bar_color": null,
            "description_width": ""
          }
        },
        "54f15afacc3b4faeac8a3b1e2feef509": {
          "model_module": "@jupyter-widgets/base",
          "model_module_version": "1.2.0",
          "model_name": "LayoutModel",
          "state": {
            "_model_module": "@jupyter-widgets/base",
            "_model_module_version": "1.2.0",
            "_model_name": "LayoutModel",
            "_view_count": null,
            "_view_module": "@jupyter-widgets/base",
            "_view_module_version": "1.2.0",
            "_view_name": "LayoutView",
            "align_content": null,
            "align_items": null,
            "align_self": null,
            "border": null,
            "bottom": null,
            "display": null,
            "flex": null,
            "flex_flow": null,
            "grid_area": null,
            "grid_auto_columns": null,
            "grid_auto_flow": null,
            "grid_auto_rows": null,
            "grid_column": null,
            "grid_gap": null,
            "grid_row": null,
            "grid_template_areas": null,
            "grid_template_columns": null,
            "grid_template_rows": null,
            "height": null,
            "justify_content": null,
            "justify_items": null,
            "left": null,
            "margin": null,
            "max_height": null,
            "max_width": null,
            "min_height": null,
            "min_width": null,
            "object_fit": null,
            "object_position": null,
            "order": null,
            "overflow": null,
            "overflow_x": null,
            "overflow_y": null,
            "padding": null,
            "right": null,
            "top": null,
            "visibility": null,
            "width": null
          }
        },
        "646d95d4698c40de9894fc6a4b5b9aaf": {
          "model_module": "@jupyter-widgets/controls",
          "model_module_version": "1.5.0",
          "model_name": "HTMLModel",
          "state": {
            "_dom_classes": [],
            "_model_module": "@jupyter-widgets/controls",
            "_model_module_version": "1.5.0",
            "_model_name": "HTMLModel",
            "_view_count": null,
            "_view_module": "@jupyter-widgets/controls",
            "_view_module_version": "1.5.0",
            "_view_name": "HTMLView",
            "description": "",
            "description_tooltip": null,
            "layout": "IPY_MODEL_a635fe0c0794449ca80f97f200beb039",
            "placeholder": "​",
            "style": "IPY_MODEL_d2950e4822db4df69510bd1a22f0f925",
            "value": "Epoch: 100%"
          }
        },
        "a3c5744e91c24faab195c5ef84ad5e6b": {
          "model_module": "@jupyter-widgets/base",
          "model_module_version": "1.2.0",
          "model_name": "LayoutModel",
          "state": {
            "_model_module": "@jupyter-widgets/base",
            "_model_module_version": "1.2.0",
            "_model_name": "LayoutModel",
            "_view_count": null,
            "_view_module": "@jupyter-widgets/base",
            "_view_module_version": "1.2.0",
            "_view_name": "LayoutView",
            "align_content": null,
            "align_items": null,
            "align_self": null,
            "border": null,
            "bottom": null,
            "display": null,
            "flex": null,
            "flex_flow": null,
            "grid_area": null,
            "grid_auto_columns": null,
            "grid_auto_flow": null,
            "grid_auto_rows": null,
            "grid_column": null,
            "grid_gap": null,
            "grid_row": null,
            "grid_template_areas": null,
            "grid_template_columns": null,
            "grid_template_rows": null,
            "height": null,
            "justify_content": null,
            "justify_items": null,
            "left": null,
            "margin": null,
            "max_height": null,
            "max_width": null,
            "min_height": null,
            "min_width": null,
            "object_fit": null,
            "object_position": null,
            "order": null,
            "overflow": null,
            "overflow_x": null,
            "overflow_y": null,
            "padding": null,
            "right": null,
            "top": null,
            "visibility": null,
            "width": null
          }
        },
        "a635fe0c0794449ca80f97f200beb039": {
          "model_module": "@jupyter-widgets/base",
          "model_module_version": "1.2.0",
          "model_name": "LayoutModel",
          "state": {
            "_model_module": "@jupyter-widgets/base",
            "_model_module_version": "1.2.0",
            "_model_name": "LayoutModel",
            "_view_count": null,
            "_view_module": "@jupyter-widgets/base",
            "_view_module_version": "1.2.0",
            "_view_name": "LayoutView",
            "align_content": null,
            "align_items": null,
            "align_self": null,
            "border": null,
            "bottom": null,
            "display": null,
            "flex": null,
            "flex_flow": null,
            "grid_area": null,
            "grid_auto_columns": null,
            "grid_auto_flow": null,
            "grid_auto_rows": null,
            "grid_column": null,
            "grid_gap": null,
            "grid_row": null,
            "grid_template_areas": null,
            "grid_template_columns": null,
            "grid_template_rows": null,
            "height": null,
            "justify_content": null,
            "justify_items": null,
            "left": null,
            "margin": null,
            "max_height": null,
            "max_width": null,
            "min_height": null,
            "min_width": null,
            "object_fit": null,
            "object_position": null,
            "order": null,
            "overflow": null,
            "overflow_x": null,
            "overflow_y": null,
            "padding": null,
            "right": null,
            "top": null,
            "visibility": null,
            "width": null
          }
        },
        "a95a6a48293c4896b48c95b767e8e4e8": {
          "model_module": "@jupyter-widgets/controls",
          "model_module_version": "1.5.0",
          "model_name": "HTMLModel",
          "state": {
            "_dom_classes": [],
            "_model_module": "@jupyter-widgets/controls",
            "_model_module_version": "1.5.0",
            "_model_name": "HTMLModel",
            "_view_count": null,
            "_view_module": "@jupyter-widgets/controls",
            "_view_module_version": "1.5.0",
            "_view_name": "HTMLView",
            "description": "",
            "description_tooltip": null,
            "layout": "IPY_MODEL_fde9e0851c7841ea95b3e1091a3ffa35",
            "placeholder": "​",
            "style": "IPY_MODEL_4fc4bb27337549f6a9ff8520f3cca583",
            "value": "Evaluating: 100%"
          }
        },
        "cff187f26cc5434aa6fb36e16fb7b5c1": {
          "model_module": "@jupyter-widgets/controls",
          "model_module_version": "1.5.0",
          "model_name": "DescriptionStyleModel",
          "state": {
            "_model_module": "@jupyter-widgets/controls",
            "_model_module_version": "1.5.0",
            "_model_name": "DescriptionStyleModel",
            "_view_count": null,
            "_view_module": "@jupyter-widgets/base",
            "_view_module_version": "1.2.0",
            "_view_name": "StyleView",
            "description_width": ""
          }
        },
        "d2950e4822db4df69510bd1a22f0f925": {
          "model_module": "@jupyter-widgets/controls",
          "model_module_version": "1.5.0",
          "model_name": "DescriptionStyleModel",
          "state": {
            "_model_module": "@jupyter-widgets/controls",
            "_model_module_version": "1.5.0",
            "_model_name": "DescriptionStyleModel",
            "_view_count": null,
            "_view_module": "@jupyter-widgets/base",
            "_view_module_version": "1.2.0",
            "_view_name": "StyleView",
            "description_width": ""
          }
        },
        "de26fb4375bf469f868d83a9b5586cc9": {
          "model_module": "@jupyter-widgets/base",
          "model_module_version": "1.2.0",
          "model_name": "LayoutModel",
          "state": {
            "_model_module": "@jupyter-widgets/base",
            "_model_module_version": "1.2.0",
            "_model_name": "LayoutModel",
            "_view_count": null,
            "_view_module": "@jupyter-widgets/base",
            "_view_module_version": "1.2.0",
            "_view_name": "LayoutView",
            "align_content": null,
            "align_items": null,
            "align_self": null,
            "border": null,
            "bottom": null,
            "display": null,
            "flex": null,
            "flex_flow": null,
            "grid_area": null,
            "grid_auto_columns": null,
            "grid_auto_flow": null,
            "grid_auto_rows": null,
            "grid_column": null,
            "grid_gap": null,
            "grid_row": null,
            "grid_template_areas": null,
            "grid_template_columns": null,
            "grid_template_rows": null,
            "height": null,
            "justify_content": null,
            "justify_items": null,
            "left": null,
            "margin": null,
            "max_height": null,
            "max_width": null,
            "min_height": null,
            "min_width": null,
            "object_fit": null,
            "object_position": null,
            "order": null,
            "overflow": null,
            "overflow_x": null,
            "overflow_y": null,
            "padding": null,
            "right": null,
            "top": null,
            "visibility": null,
            "width": null
          }
        },
        "e55a405807ea48db971295026c850a92": {
          "model_module": "@jupyter-widgets/base",
          "model_module_version": "1.2.0",
          "model_name": "LayoutModel",
          "state": {
            "_model_module": "@jupyter-widgets/base",
            "_model_module_version": "1.2.0",
            "_model_name": "LayoutModel",
            "_view_count": null,
            "_view_module": "@jupyter-widgets/base",
            "_view_module_version": "1.2.0",
            "_view_name": "LayoutView",
            "align_content": null,
            "align_items": null,
            "align_self": null,
            "border": null,
            "bottom": null,
            "display": null,
            "flex": null,
            "flex_flow": null,
            "grid_area": null,
            "grid_auto_columns": null,
            "grid_auto_flow": null,
            "grid_auto_rows": null,
            "grid_column": null,
            "grid_gap": null,
            "grid_row": null,
            "grid_template_areas": null,
            "grid_template_columns": null,
            "grid_template_rows": null,
            "height": null,
            "justify_content": null,
            "justify_items": null,
            "left": null,
            "margin": null,
            "max_height": null,
            "max_width": null,
            "min_height": null,
            "min_width": null,
            "object_fit": null,
            "object_position": null,
            "order": null,
            "overflow": null,
            "overflow_x": null,
            "overflow_y": null,
            "padding": null,
            "right": null,
            "top": null,
            "visibility": null,
            "width": null
          }
        },
        "ecf46fcdc1ac4d8c977ee7cb462a5963": {
          "model_module": "@jupyter-widgets/controls",
          "model_module_version": "1.5.0",
          "model_name": "DescriptionStyleModel",
          "state": {
            "_model_module": "@jupyter-widgets/controls",
            "_model_module_version": "1.5.0",
            "_model_name": "DescriptionStyleModel",
            "_view_count": null,
            "_view_module": "@jupyter-widgets/base",
            "_view_module_version": "1.2.0",
            "_view_name": "StyleView",
            "description_width": ""
          }
        },
        "f2756ef8aaef4285b38a5c3a50ee5b65": {
          "model_module": "@jupyter-widgets/controls",
          "model_module_version": "1.5.0",
          "model_name": "HBoxModel",
          "state": {
            "_dom_classes": [],
            "_model_module": "@jupyter-widgets/controls",
            "_model_module_version": "1.5.0",
            "_model_name": "HBoxModel",
            "_view_count": null,
            "_view_module": "@jupyter-widgets/controls",
            "_view_module_version": "1.5.0",
            "_view_name": "HBoxView",
            "box_style": "",
            "children": [
              "IPY_MODEL_a95a6a48293c4896b48c95b767e8e4e8",
              "IPY_MODEL_49e52bbf59b14af7a61c6b86e7f3fee9",
              "IPY_MODEL_1f236981e56b4f33ac62250fdbc6890e"
            ],
            "layout": "IPY_MODEL_20210a7ddba145efbc1c6f356ae17568"
          }
        },
        "f310bd3ad9894622a5f0b13cc46b8473": {
          "model_module": "@jupyter-widgets/base",
          "model_module_version": "1.2.0",
          "model_name": "LayoutModel",
          "state": {
            "_model_module": "@jupyter-widgets/base",
            "_model_module_version": "1.2.0",
            "_model_name": "LayoutModel",
            "_view_count": null,
            "_view_module": "@jupyter-widgets/base",
            "_view_module_version": "1.2.0",
            "_view_name": "LayoutView",
            "align_content": null,
            "align_items": null,
            "align_self": null,
            "border": null,
            "bottom": null,
            "display": null,
            "flex": null,
            "flex_flow": null,
            "grid_area": null,
            "grid_auto_columns": null,
            "grid_auto_flow": null,
            "grid_auto_rows": null,
            "grid_column": null,
            "grid_gap": null,
            "grid_row": null,
            "grid_template_areas": null,
            "grid_template_columns": null,
            "grid_template_rows": null,
            "height": null,
            "justify_content": null,
            "justify_items": null,
            "left": null,
            "margin": null,
            "max_height": null,
            "max_width": null,
            "min_height": null,
            "min_width": null,
            "object_fit": null,
            "object_position": null,
            "order": null,
            "overflow": null,
            "overflow_x": null,
            "overflow_y": null,
            "padding": null,
            "right": null,
            "top": null,
            "visibility": null,
            "width": null
          }
        },
        "fde9e0851c7841ea95b3e1091a3ffa35": {
          "model_module": "@jupyter-widgets/base",
          "model_module_version": "1.2.0",
          "model_name": "LayoutModel",
          "state": {
            "_model_module": "@jupyter-widgets/base",
            "_model_module_version": "1.2.0",
            "_model_name": "LayoutModel",
            "_view_count": null,
            "_view_module": "@jupyter-widgets/base",
            "_view_module_version": "1.2.0",
            "_view_name": "LayoutView",
            "align_content": null,
            "align_items": null,
            "align_self": null,
            "border": null,
            "bottom": null,
            "display": null,
            "flex": null,
            "flex_flow": null,
            "grid_area": null,
            "grid_auto_columns": null,
            "grid_auto_flow": null,
            "grid_auto_rows": null,
            "grid_column": null,
            "grid_gap": null,
            "grid_row": null,
            "grid_template_areas": null,
            "grid_template_columns": null,
            "grid_template_rows": null,
            "height": null,
            "justify_content": null,
            "justify_items": null,
            "left": null,
            "margin": null,
            "max_height": null,
            "max_width": null,
            "min_height": null,
            "min_width": null,
            "object_fit": null,
            "object_position": null,
            "order": null,
            "overflow": null,
            "overflow_x": null,
            "overflow_y": null,
            "padding": null,
            "right": null,
            "top": null,
            "visibility": null,
            "width": null
          }
        },
        "ff896cb0ab1447faa052dda25bff1e7f": {
          "model_module": "@jupyter-widgets/controls",
          "model_module_version": "1.5.0",
          "model_name": "FloatProgressModel",
          "state": {
            "_dom_classes": [],
            "_model_module": "@jupyter-widgets/controls",
            "_model_module_version": "1.5.0",
            "_model_name": "FloatProgressModel",
            "_view_count": null,
            "_view_module": "@jupyter-widgets/controls",
            "_view_module_version": "1.5.0",
            "_view_name": "ProgressView",
            "bar_style": "success",
            "description": "",
            "description_tooltip": null,
            "layout": "IPY_MODEL_f310bd3ad9894622a5f0b13cc46b8473",
            "max": 5,
            "min": 0,
            "orientation": "horizontal",
            "style": "IPY_MODEL_54942edaf17c469b9d455625403c5843",
            "value": 5
          }
        }
      }
    }
  },
  "nbformat": 4,
  "nbformat_minor": 0
}
