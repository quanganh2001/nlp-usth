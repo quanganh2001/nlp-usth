{
  "nbformat": 4,
  "nbformat_minor": 0,
  "metadata": {
    "colab": {
      "provenance": []
    },
    "kernelspec": {
      "name": "python3",
      "display_name": "Python 3"
    }
  },
  "cells": [
    {
      "cell_type": "markdown",
      "metadata": {
        "id": "4Ok6yUicvWHE"
      },
      "source": [
        "# Building a Word Segmentation model for Vietnamese\n",
        "\n",
        "In this assignment, we will build a Word Segmentation model for Vietnamese.\n",
        "\n"
      ]
    },
    {
      "cell_type": "markdown",
      "source": [
        "## How to submit\n",
        "\n",
        "- Attach notebook file (.ipynb) and submit your work to Google Class Room. **Please do NOT submit URL**\n",
        "- Name your file as YourName_StudentID_Assignment3.ibynb. E.g., Nguyen_Van_A_ST099834_Assignment3.ipynb\n",
        "- Copying others' assignments is strictly prohibited.\n",
        "- Write your name and student ID into this notebook\n",
        "\n",
        "**The due for the programming assignment 3 will be at 23:59 on March 10, 2023 (Hard deadline)**\n",
        "\n",
        "- You will be deducted 5 points for each day late submission\n",
        "- Students who fail to attach the file will not be graded.\n",
        "\n",
        "## Rules\n",
        "\n",
        "- You can only use HMM or CRF model to complete the assignment.\n",
        "- If you apply HMM, it is allowed to use nltk.HiddenMarkovModelTagger to train the model.\n",
        "- Your code should run without errors\n"
      ],
      "metadata": {
        "id": "f3YuQNYrwHHo"
      }
    },
    {
      "cell_type": "markdown",
      "source": [
        "## Vietnamese Word Segmentation\n",
        "\n",
        "The smallest unit in the Vietnamese language is syllable (tiếng). A word may consist of one or multiple consecutive words. In some problems (such as extracting keywords from text), it is necessary to identify the words in the text.\n",
        "\n",
        "The input of the word tokenizer is a sentence consisting of syllables, and the output is a sentence with words segmented.\n",
        "\n",
        "Example:\n",
        "\n",
        "Input: Nam là sinh viên đại học ngành kỹ thuật\n",
        "\n",
        "Output: Nam là sinh_viên đại_học ngành kỹ_thuật\n",
        "\n",
        "The underscore symbol \"_\" is used to connect syllables that belong to the same word.\n",
        "\n",
        "There are many ways to solve the word segmentation problem. In this exercise, we will use a sequence labeling model to do the task. We use the BI labeling method to label each syllable in the sentence. The tag B-W is used to mark the beginning of a word, and the tag I-W is used to mark a syllable that is inside the same word as the previous syllable.\n",
        "\n",
        "If we can label each syllable in the input sentence, we can accurately tokenize the sentence.\n",
        "\n",
        "```\n",
        "Nam/B-W là/B-W sinh/B-W viên/I-W đại/B-W học/I-W ngành/B-W kỹ/B-W thuật/I-W\n",
        "```\n",
        "\n",
        "We can determine the words in the sentence from the above output. A sequence of syllables labeled as B-W I-W ... will form a word."
      ],
      "metadata": {
        "id": "HURfF5auqsCR"
      }
    },
    {
      "cell_type": "markdown",
      "metadata": {
        "id": "5-Afy_L8xEe1"
      },
      "source": [
        "## Dataset\n",
        "\n",
        "You will use the train data in the file [train.txt](https://drive.google.com/file/d/1Y4AuWqbInOv1HNMiGPMhuntcA-n1jfWF/view?usp=share_link) to train your Vietnamese word segmentation model and evaluate the model image on the test data in the file [test.txt](https://drive.google.com/file/d/1Y57hlYLpxVCZUbVuwOa1IRCLgUiEAx0c/view?usp=share_link) extracted from the Word Segmentation VLSP 2013 dataset.\n",
        "\n",
        "You can download the file using the wget command."
      ]
    },
    {
      "cell_type": "code",
      "metadata": {
        "id": "krTV-czHgcox"
      },
      "source": [
        "%%capture\n",
        "\n",
        "!rm -f train.txt\n",
        "!gdown --id 1Y4AuWqbInOv1HNMiGPMhuntcA-n1jfWF\n",
        "\n",
        "!rm -f test.txt\n",
        "!gdown --id 1Y57hlYLpxVCZUbVuwOa1IRCLgUiEAx0c"
      ],
      "execution_count": null,
      "outputs": []
    },
    {
      "cell_type": "markdown",
      "metadata": {
        "id": "w4ChznIKgime"
      },
      "source": [
        "The training data contains 20000 sentences (sentences separated by a blank line) and the test data contains 2000 sentences."
      ]
    },
    {
      "cell_type": "code",
      "metadata": {
        "colab": {
          "base_uri": "https://localhost:8080/"
        },
        "id": "ZlfKOY9DDAjz",
        "outputId": "4ab8b923-376c-4771-a058-6e21b3e34982"
      },
      "source": [
        "!head -n 10 train.txt"
      ],
      "execution_count": null,
      "outputs": [
        {
          "output_type": "stream",
          "name": "stdout",
          "text": [
            "Nam\tB-W\n",
            "hồn\tB-W\n",
            "nhiên\tI-W\n",
            ":\tB-W\n",
            "\"\tB-W\n",
            "Tụi\tB-W\n",
            "tôi\tB-W\n",
            "xài\tB-W\n",
            "tiền\tB-W\n",
            "ngân\tB-W\n"
          ]
        }
      ]
    },
    {
      "cell_type": "markdown",
      "source": [
        "## Task Description\n",
        "\n",
        "- Your task is to build a tagging model that can predict a tag sequence (a tag sequence of B-W and I-W) for words in an input sentence.\n",
        "- You can use HMM or CRF model to complete the assignment.\n",
        "- If you apply HMM, it is allowed to use `nltk.HiddenMarkovModelTagger` to train the model.\n",
        "\n",
        "The package [seqeval](https://github.com/chakki-works/seqeval) can be used to evaluate the result of model word segmentation.\n"
      ],
      "metadata": {
        "id": "tagiE-Q9xrJp"
      }
    },
    {
      "cell_type": "code",
      "source": [
        "!pip install -q seqeval[cpu]"
      ],
      "metadata": {
        "id": "IQwJL6mxaGCh",
        "colab": {
          "base_uri": "https://localhost:8080/"
        },
        "outputId": "2b8966a5-874e-4a75-84d1-cf8da5adbdd6"
      },
      "execution_count": null,
      "outputs": [
        {
          "output_type": "stream",
          "name": "stdout",
          "text": [
            "\u001b[?25l     \u001b[90m━━━━━━━━━━━━━━━━━━━━━━━━━━━━━━━━━━━━━━━━\u001b[0m \u001b[32m0.0/43.6 kB\u001b[0m \u001b[31m?\u001b[0m eta \u001b[36m-:--:--\u001b[0m\r\u001b[2K     \u001b[90m━━━━━━━━━━━━━━━━━━━━━━━━━━━━━━━━━━━━━━━━\u001b[0m \u001b[32m43.6/43.6 kB\u001b[0m \u001b[31m1.4 MB/s\u001b[0m eta \u001b[36m0:00:00\u001b[0m\n",
            "\u001b[?25h  Preparing metadata (setup.py) ... \u001b[?25l\u001b[?25hdone\n",
            "  Building wheel for seqeval (setup.py) ... \u001b[?25l\u001b[?25hdone\n"
          ]
        }
      ]
    },
    {
      "cell_type": "markdown",
      "source": [
        "## Loading data\n"
      ],
      "metadata": {
        "id": "ZY-FrQAJZrIX"
      }
    },
    {
      "cell_type": "code",
      "source": [
        "def load_data(file_path):\n",
        "    \"\"\"Load data from a file (train.txt or test.txt)\n",
        "\n",
        "    Return:\n",
        "        tagged_sentences (list): List of sentence. Each sentence is a list of tuples (word, tag)\n",
        "    \"\"\"\n",
        "    tagged_sentences = []\n",
        "    cur_sen = []\n",
        "    with open(file_path, 'r') as f:\n",
        "        for line in f:\n",
        "            line = line.rstrip()\n",
        "            if line == '':\n",
        "                if len(cur_sen) != 0:\n",
        "                    tagged_sentences.append(cur_sen)\n",
        "                    cur_sen = []\n",
        "            else:\n",
        "                word, tag = line.split()\n",
        "                cur_sen.append((word, tag))\n",
        "    if len(cur_sen) != 0:\n",
        "        tagged_sentences.append(cur_sen)\n",
        "    return tagged_sentences\n",
        "\n",
        "train_data = load_data('train.txt')\n",
        "test_data = load_data('test.txt')"
      ],
      "metadata": {
        "id": "2ssCvw37Zuvi"
      },
      "execution_count": null,
      "outputs": []
    },
    {
      "cell_type": "markdown",
      "source": [
        "## Part 1: Building a Word Segmentation model for Vietnamese (70 points)\n",
        "\n",
        "In this section, you will build a tagging model using HMM or CRF.\n",
        "\n",
        "*Hint*: Please refer to [HMM_POS_Tagger.ipynb](https://colab.research.google.com/drive/1lcTncvhlhx8KaJ_oBW6MR7cy470MMpD9#scrollTo=Ty-Qh9Jo23dS) or [CRF_POS_Tagger.ipynb](https://colab.research.google.com/drive/1SuxBmZudn4Tn3w-pBXDoRsuSkBA7RiVV) to understand how to build a tagging model with HMM and CRF.\n"
      ],
      "metadata": {
        "id": "YqnEC1SfKpF-"
      }
    },
    {
      "cell_type": "code",
      "source": [
        "# TODO: Write code to build the model"
      ],
      "metadata": {
        "id": "ZtM-tOU3PckZ"
      },
      "execution_count": null,
      "outputs": []
    },
    {
      "cell_type": "markdown",
      "source": [
        "### HMM model"
      ],
      "metadata": {
        "id": "KGBx73eRDy9n"
      }
    },
    {
      "cell_type": "code",
      "source": [
        "import nltk\n",
        "\n",
        "tagger = nltk.HiddenMarkovModelTagger.train(train_data)"
      ],
      "metadata": {
        "id": "ywEmf3sDD1A3"
      },
      "execution_count": null,
      "outputs": []
    },
    {
      "cell_type": "code",
      "source": [
        "tagger.accuracy(test_data)"
      ],
      "metadata": {
        "id": "e-D7jOFCD7NY",
        "outputId": "e81f80dd-1675-4a43-db6a-7df8f38b25af",
        "colab": {
          "base_uri": "https://localhost:8080/"
        }
      },
      "execution_count": null,
      "outputs": [
        {
          "output_type": "execute_result",
          "data": {
            "text/plain": [
              "0.8272016974814062"
            ]
          },
          "metadata": {},
          "execution_count": 6
        }
      ]
    },
    {
      "cell_type": "markdown",
      "metadata": {
        "id": "z9i3MmMLxrBm"
      },
      "source": [
        "## Part 2: Model evaluation (30 points)\n",
        "\n",
        "Evaluation measures:\n",
        "\n",
        "- P(recision): (Number of word models correctly split)/(Number of words in the model's output)\n",
        "- R(ecall): (Number of word models correctly split)/(Number of words in ground-truth data)\n",
        "- F1 = 2*P*R/(P+R)\n",
        "\n",
        "What you need to do is to use the model that you have trained to generate the list of tag sequences for sentences in the test data.\n",
        "\n",
        "**Complete the following function**\n"
      ]
    },
    {
      "cell_type": "code",
      "source": [
        "def tag(syllables):\n",
        "    \"\"\"Return a list of tags for a list of syllables\n",
        "\n",
        "    Arguments:\n",
        "        tokens (list)\n",
        "\n",
        "    Returns:\n",
        "        tags (list): list of tags for input tokens\n",
        "    \"\"\"\n",
        "    # TODO: Write your code here\n",
        "    # tags = ...\n",
        "    # return tags\n",
        "    tags = tagger.tag(syllables)\n",
        "    tags = [tag[-1] for tag in tags]\n",
        "    return tags\n",
        "    pass"
      ],
      "metadata": {
        "id": "oyzF69JWC5MU"
      },
      "execution_count": null,
      "outputs": []
    },
    {
      "cell_type": "markdown",
      "source": [
        "We apply the above function to get the predicted tag sequences of the model."
      ],
      "metadata": {
        "id": "tItuUdUwaepF"
      }
    },
    {
      "cell_type": "code",
      "source": [
        "## First get the unlabeled sentences and corresponding tag sequences\n",
        "test_sentences = []\n",
        "test_tag_sequences = []\n",
        "\n",
        "for sen in test_data:\n",
        "    words, tags = zip(*sen)\n",
        "    assert len(words) == len(tags)\n",
        "    test_sentences.append(list(words))\n",
        "    test_tag_sequences.append(list(tags))\n",
        "\n",
        "predicted_tag_sequences = [tag(s) for s in test_sentences]"
      ],
      "metadata": {
        "id": "O-KAD_g-akdx"
      },
      "execution_count": null,
      "outputs": []
    },
    {
      "cell_type": "markdown",
      "source": [
        "Next, just use seqeval package to calculate precision, recall and f1 score"
      ],
      "metadata": {
        "id": "XLJusAxcDoNw"
      }
    },
    {
      "cell_type": "code",
      "source": [
        "from seqeval.metrics import f1_score, classification_report\n",
        "\n",
        "print(classification_report(test_tag_sequences, predicted_tag_sequences))"
      ],
      "metadata": {
        "id": "9hBoS3uRJ-BO",
        "outputId": "d9a782d0-7cba-487b-b132-a42b4dde53d0",
        "colab": {
          "base_uri": "https://localhost:8080/"
        }
      },
      "execution_count": null,
      "outputs": [
        {
          "output_type": "stream",
          "name": "stdout",
          "text": [
            "              precision    recall  f1-score   support\n",
            "\n",
            "           W       0.70      0.75      0.72     62131\n",
            "\n",
            "   micro avg       0.70      0.75      0.72     62131\n",
            "   macro avg       0.70      0.75      0.72     62131\n",
            "weighted avg       0.70      0.75      0.72     62131\n",
            "\n"
          ]
        }
      ]
    },
    {
      "cell_type": "markdown",
      "metadata": {
        "id": "l3XiagurwdKr"
      },
      "source": [
        "## References\n",
        "\n",
        "- Huyen, N. T. M., Roussanaly, A., & Vinh, H. T. (2008, March). A hybrid approach to word segmentation of Vietnamese texts. In International Conference on Language and Automata Theory and Applications (pp. 240-249). Springer, Berlin, Heidelberg.\n",
        "- Nguyen, T. P., & Le, A. C. (2016, November). [A hybrid approach to Vietnamese word segmentation](https://www.researchgate.net/profile/Tuan_Phong_Nguyen/publication/311980397_A_hybrid_approach_to_Vietnamese_word_segmentation/links/5a9507e3a6fdccecff0771ff/A-hybrid-approach-to-Vietnamese-word-segmentation.pdf). In 2016 IEEE RIVF International Conference on Computing & Communication Technologies, Research, Innovation, and Vision for the Future (RIVF) (pp. 114-119). IEEE.\n",
        "- Nguyen, D. Q., Nguyen, D. Q., Vu, T., Dras, M., & Johnson, M. (2017). [A fast and accurate vietnamese word segmenter](https://arxiv.org/abs/1709.06307). arXiv preprint arXiv:1709.06307.\n",
        "- [seqeval](https://github.com/chakki-works/seqevalhttps://github.com/chakki-works/seqeval) for sequence labeling evaluation.\n",
        "\n"
      ]
    }
  ]
}