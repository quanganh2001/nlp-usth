{
  "metadata": {
    "kernelspec": {
      "language": "python",
      "display_name": "Python 3",
      "name": "python3"
    },
    "language_info": {
      "name": "python",
      "version": "3.7.12",
      "mimetype": "text/x-python",
      "codemirror_mode": {
        "name": "ipython",
        "version": 3
      },
      "pygments_lexer": "ipython3",
      "nbconvert_exporter": "python",
      "file_extension": ".py"
    },
    "colab": {
      "provenance": []
    }
  },
  "nbformat_minor": 0,
  "nbformat": 4,
  "cells": [
    {
      "cell_type": "markdown",
      "source": [
        "# Programming Assignment 2: Bigram Language Models\n",
        "\n",
        "In Programming Assignment 1, we are going to implement a bigram language model and use interpolation for smoothing.\n",
        "\n",
        "The bigram probabilities will be estimated by using MLE as follows:\n",
        "\n",
        "$$\n",
        "P_{ML}(w_i|w_{i-1})=\\frac{c(w_{i-1}w_{i})}{c(w_{i-1})}\n",
        "$$\n",
        "\n",
        "Recall that, the smoothed bigram probabilities using interpolation technique is calculated as follows.\n",
        "\n",
        "Bigrams:\n",
        "\n",
        "$$\n",
        "P(w_i|w_{i-1})=\\lambda_2 \\times P_{ML}(w_i|w_{i-1})+(1-\\lambda_2)\\times P(w_i)\n",
        "$$\n",
        "\n",
        "where $P(w_i)$ is the smoothed unigram probability and calculated as follows.\n",
        "\n",
        "$$\n",
        "P(w_i)=\\lambda_1 \\times P_{ML}(w_i) + (1-\\lambda_1) \\times \\frac{1}{N}\n",
        "$$\n",
        "\n",
        "where $N$ is a large number, e.g., $N=1,000,000$.\n",
        "\n",
        "There are two parts in this programming assignment.\n",
        "\n",
        "- Training: you will estimate unigram and bigram probabilities from a raw text data file and save parameters of the language model into a file.\n",
        "- Test: you use the trained language model to calculate calculates entropy, perplexity on the test data. You will need to use interpolation to calculate smoothed probabilities in testing.\n",
        "\n",
        "Please refer the pseudo-code in slide 17, 18 of the lecture [NLP Programming Tutorial 2 -Bigram Language Models](http://www.phontron.com/slides/nlp-programming-en-02-bigramlm.pdf) to complete the assignment."
      ],
      "metadata": {
        "id": "UXnI7KKa5AVF"
      }
    },
    {
      "cell_type": "markdown",
      "source": [
        "## Submission and due date\n",
        "\n",
        "**The due for the programming assignment 2 will be at 23:59 on February 19, 2023 (Hard deadline)**\n",
        "\n",
        "### How to submit\n",
        "\n",
        "- Attach notebook file (.ipynb) and submit your work to Google Class Room\n",
        "- Name your file as YourName_StudentID_Assignment1.ibynb. E.g., Nguyen_Van_A_ST099834_Assignment2.ipynb\n",
        "- Copying others' assignments is strictly prohibited.\n",
        "- Write your name and student ID into this notebook\n"
      ],
      "metadata": {
        "id": "H1tTFpUuV10R"
      }
    },
    {
      "cell_type": "markdown",
      "source": [
        "## Data\n",
        "\n",
        "We will use the file [wiki-en-train.word](https://raw.githubusercontent.com/neubig/nlptutorial/master/data/wiki-en-train.word) as the training data, and [wiki-en-test.\n",
        "word](https://raw.githubusercontent.com/neubig/nlptutorial/master/data/wiki-en-test.word) as the test data. To test our implementation quickly, we will use small data file [02-train-input.txt](https://github.com/neubig/nlptutorial/blob/master/test/02-train-input.txt). All data files are from the [nlptutorial](https://github.com/neubig/nlptutorial) by Graham Neubig.\n",
        "\n",
        "As the first step, we will download all necessary data files using `wget` command line."
      ],
      "metadata": {
        "id": "hZxKE4cMUcH3"
      }
    },
    {
      "cell_type": "code",
      "source": [
        "%%capture\n",
        "!rm -f wiki-en-train.word\n",
        "!wget https://raw.githubusercontent.com/neubig/nlptutorial/master/data/wiki-en-train.word\n",
        "\n",
        "!rm -f wiki-en-test.word\n",
        "!wget https://raw.githubusercontent.com/neubig/nlptutorial/master/data/wiki-en-test.word\n",
        "\n",
        "!rm -f 02-train-input.txt\n",
        "!wget https://raw.githubusercontent.com/neubig/nlptutorial/master/test/02-train-input.txt"
      ],
      "metadata": {
        "id": "Q5JRqLFIVnI-",
        "execution": {
          "iopub.status.busy": "2023-02-11T15:36:34.614795Z",
          "iopub.execute_input": "2023-02-11T15:36:34.615220Z",
          "iopub.status.idle": "2023-02-11T15:36:41.967588Z",
          "shell.execute_reply.started": "2023-02-11T15:36:34.615188Z",
          "shell.execute_reply": "2023-02-11T15:36:41.966063Z"
        },
        "trusted": true
      },
      "execution_count": 1,
      "outputs": []
    },
    {
      "cell_type": "markdown",
      "source": [
        "## Part 1: Estimating probabilities (60 points)\n",
        "\n",
        "What you need to do in this part is complete the function `train_bigram` to estimate unigram, bigram probabilities (using MLE method) from a text file and save probabilities to a model file.\n",
        "\n",
        "The format of the model file is as follows. Each line includes an n-gram (unigram or bigram) and its probability estimated by MLE method.\n",
        "\n",
        "```\n",
        "<s> a\t1.000000\n",
        "a\t0.250000\n",
        "a b\t1.000000\n",
        "b\t0.250000\n",
        "b c\t0.500000\n",
        "...\n",
        "```"
      ],
      "metadata": {
        "id": "X0WLgNXeVt0Z"
      }
    },
    {
      "cell_type": "markdown",
      "source": [
        "### Part 1.1: Function train_bigram()"
      ],
      "metadata": {
        "id": "KP2Tj-kZjowV"
      }
    },
    {
      "cell_type": "code",
      "source": [
        "from collections import defaultdict\n",
        "\n",
        "\n",
        "def train_bigram(train_file, model_file):\n",
        "    \"\"\"Train trigram language model and save to model file\n",
        "    \"\"\"\n",
        "    counts = defaultdict(int)  # count the n-gram\n",
        "    context_counts = defaultdict(int)   # count the context\n",
        "    with open(train_file) as f:\n",
        "        for line in f:\n",
        "            line = line.strip()\n",
        "            if line == '':\n",
        "                continue\n",
        "            words = line.split()\n",
        "            words.append('</s>')\n",
        "            words.insert(0, '<s>')\n",
        "\n",
        "            for i in range(1, len(words)):  # Note: starting at 1, after <s>\n",
        "                # TODO: Write code to count bigrams and their contexts\n",
        "                # YOUR CODE HERE\n",
        "\n",
        "                counts[words[i-1] + ' ' +  words[i]] += 1 # Add bigram and bigram context\n",
        "                context_counts[words[i-1]] += 1\n",
        "                counts[words[i]] += 1    # Add unigram and unigram context\n",
        "                context_counts[\"\"] += 1\n",
        "\n",
        "    # Save probabilities to the model file\n",
        "    with open(model_file, 'w') as fo:\n",
        "        for ngram, count in counts.items():\n",
        "            # TODO: Write code to calculate probabilities of n-grams\n",
        "            # (unigrams and bigrams)\n",
        "            # Hint: probabilities of n-grams will be calculated by their counts\n",
        "            # divided by their context's counts.\n",
        "            # probability = counts[ngram]/context_counts[context]\n",
        "            # After calculating probabilities, we will save ngram and probability\n",
        "            # to the file in the format:\n",
        "            # ngram<tab>probability\n",
        "\n",
        "            # YOUR CODE HERE\n",
        "\n",
        "            words = ngram.split(' ')\n",
        "            words.pop()\n",
        "            context = ' '.join(words)\n",
        "            probability = counts[ngram]/context_counts[context]\n",
        "            fo.write('%s\\t%f\\n' % (ngram, probability))\n",
        "            pass"
      ],
      "metadata": {
        "id": "XX2a0Yetfzta",
        "execution": {
          "iopub.status.busy": "2023-02-11T15:37:08.225281Z",
          "iopub.execute_input": "2023-02-11T15:37:08.225724Z",
          "iopub.status.idle": "2023-02-11T15:37:08.238309Z",
          "shell.execute_reply.started": "2023-02-11T15:37:08.225686Z",
          "shell.execute_reply": "2023-02-11T15:37:08.237291Z"
        },
        "trusted": true
      },
      "execution_count": 2,
      "outputs": []
    },
    {
      "cell_type": "markdown",
      "source": [
        "Let's try to train bigram model on the small data."
      ],
      "metadata": {
        "id": "LpbTBe8xi1rH"
      }
    },
    {
      "cell_type": "code",
      "source": [
        "train_bigram('02-train-input.txt', '02-train-answer.txt')"
      ],
      "metadata": {
        "id": "4lmBGnZWi5_R",
        "execution": {
          "iopub.status.busy": "2023-02-11T15:37:10.703225Z",
          "iopub.execute_input": "2023-02-11T15:37:10.703601Z",
          "iopub.status.idle": "2023-02-11T15:37:10.710286Z",
          "shell.execute_reply.started": "2023-02-11T15:37:10.703571Z",
          "shell.execute_reply": "2023-02-11T15:37:10.708903Z"
        },
        "trusted": true
      },
      "execution_count": 3,
      "outputs": []
    },
    {
      "cell_type": "markdown",
      "source": [
        "Let's see the content of the model. After completing the function `train_bigram`, you should see. The order of lines may be different.\n",
        "\n",
        "```\n",
        "</s>\t0.250000\n",
        "<s> a\t1.000000\n",
        "a\t0.250000\n",
        "a b\t1.000000\n",
        "b\t0.250000\n",
        "b c\t0.500000\n",
        "b d\t0.500000\n",
        "c\t0.125000\n",
        "c </s>\t1.000000\n",
        "d\t0.125000\n",
        "d </s>\t1.000000\n",
        "```"
      ],
      "metadata": {
        "id": "xofAVqrNjEHA"
      }
    },
    {
      "cell_type": "code",
      "source": [
        "!cat 02-train-answer.txt"
      ],
      "metadata": {
        "id": "Z6Wf9fXyjLwO",
        "outputId": "97a39598-546c-4548-8377-cc27395ab8c4",
        "execution": {
          "iopub.status.busy": "2023-02-11T15:37:14.511951Z",
          "iopub.execute_input": "2023-02-11T15:37:14.512376Z",
          "iopub.status.idle": "2023-02-11T15:37:15.602860Z",
          "shell.execute_reply.started": "2023-02-11T15:37:14.512340Z",
          "shell.execute_reply": "2023-02-11T15:37:15.601523Z"
        },
        "trusted": true,
        "colab": {
          "base_uri": "https://localhost:8080/"
        }
      },
      "execution_count": 4,
      "outputs": [
        {
          "output_type": "stream",
          "name": "stdout",
          "text": [
            "<s> a\t1.000000\n",
            "a\t0.250000\n",
            "a b\t1.000000\n",
            "b\t0.250000\n",
            "b c\t0.500000\n",
            "c\t0.125000\n",
            "c </s>\t1.000000\n",
            "</s>\t0.250000\n",
            "b d\t0.500000\n",
            "d\t0.125000\n",
            "d </s>\t1.000000\n"
          ]
        }
      ]
    },
    {
      "cell_type": "markdown",
      "source": [
        "### Part 1.2: load the model file\n",
        "\n",
        "We are going to implement the function `load_bigram_model` to load the model file."
      ],
      "metadata": {
        "id": "lzqpiLpxjM5z"
      }
    },
    {
      "cell_type": "code",
      "source": [
        "def load_bigram_model(model_file):\n",
        "    \"\"\"Load the model file\n",
        "\n",
        "    Args:\n",
        "        model_file (str): Path to the model file\n",
        "\n",
        "    Returns:\n",
        "        probs (dict): Dictionary object that map from ngrams to their probabilities\n",
        "    \"\"\"\n",
        "    probs = {}\n",
        "    with open(model_file, 'r') as f:\n",
        "        for line in f:\n",
        "            # TODO: From each line split ngram, probability\n",
        "            # and then update probs\n",
        "\n",
        "            # YOUR CODE HERE\n",
        "            line = line.strip()\n",
        "            if line == '':\n",
        "                continue\n",
        "            ngram, p = line.split('\\t')\n",
        "            probs[ngram] = float(p)\n",
        "            pass\n",
        "    return probs"
      ],
      "metadata": {
        "id": "s0lc9hiMkAJk",
        "execution": {
          "iopub.status.busy": "2023-02-11T15:37:47.937572Z",
          "iopub.execute_input": "2023-02-11T15:37:47.938003Z",
          "iopub.status.idle": "2023-02-11T15:37:47.945045Z",
          "shell.execute_reply.started": "2023-02-11T15:37:47.937968Z",
          "shell.execute_reply": "2023-02-11T15:37:47.944258Z"
        },
        "trusted": true
      },
      "execution_count": 5,
      "outputs": []
    },
    {
      "cell_type": "markdown",
      "source": [
        "Let's test the function"
      ],
      "metadata": {
        "id": "czcC1vOIq3YV"
      }
    },
    {
      "cell_type": "code",
      "source": [
        "probs = load_bigram_model('02-train-answer.txt')\n",
        "probs"
      ],
      "metadata": {
        "id": "X3pTilwdq5lP",
        "outputId": "52f944c0-6d85-4ed0-d60f-5ff60ae13114",
        "execution": {
          "iopub.status.busy": "2023-02-11T15:37:50.810283Z",
          "iopub.execute_input": "2023-02-11T15:37:50.811029Z",
          "iopub.status.idle": "2023-02-11T15:37:50.818887Z",
          "shell.execute_reply.started": "2023-02-11T15:37:50.810980Z",
          "shell.execute_reply": "2023-02-11T15:37:50.817951Z"
        },
        "trusted": true,
        "colab": {
          "base_uri": "https://localhost:8080/"
        }
      },
      "execution_count": 6,
      "outputs": [
        {
          "output_type": "execute_result",
          "data": {
            "text/plain": [
              "{'<s> a': 1.0,\n",
              " 'a': 0.25,\n",
              " 'a b': 1.0,\n",
              " 'b': 0.25,\n",
              " 'b c': 0.5,\n",
              " 'c': 0.125,\n",
              " 'c </s>': 1.0,\n",
              " '</s>': 0.25,\n",
              " 'b d': 0.5,\n",
              " 'd': 0.125,\n",
              " 'd </s>': 1.0}"
            ]
          },
          "metadata": {},
          "execution_count": 6
        }
      ]
    },
    {
      "cell_type": "markdown",
      "source": [
        "## Part 2: Evaluating Bigram Language Model (40 points)\n",
        "\n",
        "In this part, we will evaluate the bigram language model on the test set. We will use linear interpolation as the smoothing technique.\n",
        "\n",
        "What we need to do is to complete the function  `test_bigram` as follows. The function will return perplexity on the test data.\n",
        "\n",
        "Recall that, the smoothed bigram probabilities using interpolation technique is calculated as follows.\n",
        "\n",
        "Bigrams:\n",
        "\n",
        "$$\n",
        "P(w_i|w_{i-1})=\\lambda_2 \\times P_{ML}(w_i|w_{i-1})+(1-\\lambda_2)\\times P(w_i)\n",
        "$$\n",
        "\n",
        "where $P(w_i)$ is the smoothed unigram probability and calculated as follows.\n",
        "\n",
        "$$\n",
        "P(w_i)=\\lambda_1 \\times P_{ML}(w_i) + (1-\\lambda_1) \\times \\frac{1}{N}\n",
        "$$\n",
        "\n",
        "where $N$ is a large number, e.g., $N=1,000,000$."
      ],
      "metadata": {
        "id": "rBpjGSG8ky7u"
      }
    },
    {
      "cell_type": "code",
      "source": [
        "import math\n",
        "\n",
        "\n",
        "def test_bigram(test_file, model_file, lambda2=0.95, lambda1=0.95, N=1000000):\n",
        "    W = 0 # Total word count\n",
        "    H = 0\n",
        "    probs = load_bigram_model(model_file)\n",
        "    with open(test_file, 'r') as f:\n",
        "        for line in f:\n",
        "            line = line.strip()\n",
        "            if line == '':\n",
        "                continue\n",
        "            words = line.split()\n",
        "            words.append('</s>')\n",
        "            words.insert(0, '<s>')\n",
        "            for i in range(1, len(words)):  # Note: starting at 1, after <s>\n",
        "                # TODO: Write code to calculate smoothed unigram probabilties\n",
        "                # and smoothed bigram probabilities\n",
        "                # You should use calculate p1 as smoothed unigram probability\n",
        "                # and p2 as smoothed bigram probability\n",
        "                p1 = None  # Comment out this line\n",
        "                p2 = None  # Comment out this line\n",
        "\n",
        "                # YOUR CODE HERE\n",
        "\n",
        "                p1 = (1-lambda1)/N   # Smoothed unigram probability\n",
        "                if words[i] in probs:\n",
        "                    p1 += lambda1 * probs[words[i]]\n",
        "                p2 = (1-lambda2) * p1  # Smoothed bigram probability\n",
        "                if words[i-1] + ' ' + words[i] in probs:\n",
        "                    p2 += lambda2 * probs[words[i-1] + ' ' + words[i]]\n",
        "\n",
        "                # END OF YOUR CODE\n",
        "                W += 1  # Count the words\n",
        "                H += -math.log2(p2) # We use logarithm to avoid underflow\n",
        "    H = H/W\n",
        "    P = 2**H\n",
        "\n",
        "    print(\"Entropy: {}\".format(H))\n",
        "    print(\"Perplexity: {}\".format(P))\n",
        "\n",
        "    return P"
      ],
      "metadata": {
        "id": "LLb5kGJilgrG",
        "execution": {
          "iopub.status.busy": "2023-02-11T15:46:47.726527Z",
          "iopub.execute_input": "2023-02-11T15:46:47.726926Z",
          "iopub.status.idle": "2023-02-11T15:46:47.738487Z",
          "shell.execute_reply.started": "2023-02-11T15:46:47.726895Z",
          "shell.execute_reply": "2023-02-11T15:46:47.737214Z"
        },
        "trusted": true
      },
      "execution_count": 7,
      "outputs": []
    },
    {
      "cell_type": "markdown",
      "source": [
        "Now let's calculate on the Wikipedia data."
      ],
      "metadata": {
        "id": "To39tEQ0pAH6"
      }
    },
    {
      "cell_type": "code",
      "source": [
        "train_bigram('wiki-en-train.word', 'bigram_model.txt')\n",
        "test_bigram('wiki-en-test.word', 'bigram_model.txt')"
      ],
      "metadata": {
        "id": "ZHAE96uvpQPR",
        "outputId": "41468547-4466-4233-ad57-2cddc3148ace",
        "execution": {
          "iopub.status.busy": "2023-02-11T15:46:50.272965Z",
          "iopub.execute_input": "2023-02-11T15:46:50.273398Z",
          "iopub.status.idle": "2023-02-11T15:46:50.382506Z",
          "shell.execute_reply.started": "2023-02-11T15:46:50.273364Z",
          "shell.execute_reply": "2023-02-11T15:46:50.381362Z"
        },
        "trusted": true,
        "colab": {
          "base_uri": "https://localhost:8080/"
        }
      },
      "execution_count": 8,
      "outputs": [
        {
          "output_type": "stream",
          "name": "stdout",
          "text": [
            "Entropy: 11.284333504778214\n",
            "Perplexity: 2494.151707389251\n"
          ]
        },
        {
          "output_type": "execute_result",
          "data": {
            "text/plain": [
              "2494.151707389251"
            ]
          },
          "metadata": {},
          "execution_count": 8
        }
      ]
    },
    {
      "cell_type": "markdown",
      "source": [
        "You should get entropy value about 11.28."
      ],
      "metadata": {
        "id": "qQcvtIM1wRh-"
      }
    },
    {
      "cell_type": "markdown",
      "source": [],
      "metadata": {
        "id": "NiyicE5hpUyb"
      }
    }
  ]
}