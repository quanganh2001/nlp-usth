{
  "nbformat": 4,
  "nbformat_minor": 0,
  "metadata": {
    "colab": {
      "provenance": []
    },
    "kernelspec": {
      "name": "python3",
      "display_name": "Python 3"
    },
    "language_info": {
      "name": "python"
    }
  },
  "cells": [
    {
      "cell_type": "markdown",
      "source": [
        "# Vietnamese Language Processing Pipeline\n",
        "\n",
        "In this notebook, we will learn how to use Vietnamese NLP Tools to do NLP Pipeline including:\n",
        "\n",
        "- Sentence Segmentation\n",
        "- Tokenization\n",
        "- POS Tagging\n",
        "- Named-Entity Recognition\n",
        "\n",
        "We will use [underthesea](https://github.com/undertheseanlp/underthesea) for Vietnamese NLP Pipeline."
      ],
      "metadata": {
        "id": "Kdg0FrWkfkwC"
      }
    },
    {
      "cell_type": "markdown",
      "source": [
        "## Running example\n"
      ],
      "metadata": {
        "id": "pPAPm4NDiU3n"
      }
    },
    {
      "cell_type": "code",
      "source": [
        "text = (\"Vì vậy, Văn phòng Chính phủ đã báo cáo Thủ tướng cần phải thực hiện các biện pháp phòng chống dịch cao hơn khuyến cáo của WHO. \"\n",
        "        \"Chiều mùng 3 Tết, Thủ tướng chủ trì họp, đưa ra thông điệp chống dịch bệnh. Công điện số 05 của Thủ tướng ban hành ngày 28/1/2020, \"\n",
        "        \"tức mùng 4 Tết Nguyên đán Canh Tý đã nêu nhiều biện pháp quyết liệt, như tạm thời ngừng cấp phép các chuyến bay từ Việt Nam đến \"\n",
        "        \"các vùng có dịch của Trung Quốc và ngược lại; phòng chống dịch cho các hành khách trên các phương tiện vận tải; giao \"\n",
        "        \"Bộ Y tế hoàn thành kịch bản ứng phó với dịch bệnh, đảm bảo thuốc, trang thiết bị y tế...\")"
      ],
      "metadata": {
        "id": "mOmw2O6-iYBJ"
      },
      "execution_count": null,
      "outputs": []
    },
    {
      "cell_type": "markdown",
      "source": [
        "## Underthesea\n",
        "\n",
        "[Underthesea](https://github.com/undertheseanlp/underthesea) is an open-source NLP Tool for Vietnamese. Underthesea can be used to perform NLP tasks in NLP pipeline. We can use that tool to do text classification as well."
      ],
      "metadata": {
        "id": "gZLli8Cphgl-"
      }
    },
    {
      "cell_type": "code",
      "source": [
        "!pip install -q underthesea"
      ],
      "metadata": {
        "colab": {
          "base_uri": "https://localhost:8080/"
        },
        "id": "ecrrhlhpiL3s",
        "outputId": "ea0ea57b-14d3-452c-e1c5-aa4560eee0c3"
      },
      "execution_count": null,
      "outputs": [
        {
          "output_type": "stream",
          "name": "stdout",
          "text": [
            "\u001b[K     |████████████████████████████████| 11.0 MB 14.4 MB/s \n",
            "\u001b[K     |████████████████████████████████| 591 kB 71.2 MB/s \n",
            "\u001b[K     |████████████████████████████████| 1.0 MB 69.4 MB/s \n",
            "\u001b[?25h"
          ]
        }
      ]
    },
    {
      "cell_type": "markdown",
      "source": [
        "### Sentence tokenization"
      ],
      "metadata": {
        "id": "mMo2XLECpVdP"
      }
    },
    {
      "cell_type": "code",
      "source": [
        "from underthesea import sent_tokenize\n",
        "\n",
        "sent_tokenize(text)"
      ],
      "metadata": {
        "colab": {
          "base_uri": "https://localhost:8080/"
        },
        "id": "RIr0kG_XpeDc",
        "outputId": "b367a44e-827d-41ab-8acd-6a9d3ebc1e5d"
      },
      "execution_count": null,
      "outputs": [
        {
          "output_type": "execute_result",
          "data": {
            "text/plain": [
              "['Vì vậy, Văn phòng Chính phủ đã báo cáo Thủ tướng cần phải thực hiện các biện pháp phòng chống dịch cao hơn khuyến cáo của WHO.',\n",
              " 'Chiều mùng 3 Tết, Thủ tướng chủ trì họp, đưa ra thông điệp chống dịch bệnh.',\n",
              " 'Công điện số 05 của Thủ tướng ban hành ngày 28/1/2020, tức mùng 4 Tết Nguyên đán Canh Tý đã nêu nhiều biện pháp quyết liệt, như tạm thời ngừng cấp phép các chuyến bay từ Việt Nam đến các vùng có dịch của Trung Quốc và ngược lại; phòng chống dịch cho các hành khách trên các phương tiện vận tải; giao Bộ Y tế hoàn thành kịch bản ứng phó với dịch bệnh, đảm bảo thuốc, trang thiết bị y tế...']"
            ]
          },
          "metadata": {},
          "execution_count": 3
        }
      ]
    },
    {
      "cell_type": "markdown",
      "source": [
        "### Text normalization"
      ],
      "metadata": {
        "id": "rODF8EVCp1MJ"
      }
    },
    {
      "cell_type": "code",
      "source": [
        "from underthesea import text_normalize\n",
        "text_normalize('Ðảm baỏ chất lựơng phòng thí nghịêm hoá học')"
      ],
      "metadata": {
        "colab": {
          "base_uri": "https://localhost:8080/",
          "height": 36
        },
        "id": "EAEKme3pp3sc",
        "outputId": "84bceb53-ef12-426e-d90a-25e9a315ba61"
      },
      "execution_count": null,
      "outputs": [
        {
          "output_type": "execute_result",
          "data": {
            "text/plain": [
              "'Đảm bảo chất lượng phòng thí nghiệm hóa học'"
            ],
            "application/vnd.google.colaboratory.intrinsic+json": {
              "type": "string"
            }
          },
          "metadata": {},
          "execution_count": 4
        }
      ]
    },
    {
      "cell_type": "markdown",
      "source": [
        "### Word Tokenization"
      ],
      "metadata": {
        "id": "YHa7dLjbpi0s"
      }
    },
    {
      "cell_type": "code",
      "source": [
        "from underthesea import word_tokenize\n",
        "\n",
        "sentence = 'Vì vậy, Văn phòng Chính phủ đã báo cáo Thủ tướng cần phải thực hiện các biện pháp phòng chống dịch cao hơn khuyến cáo của WHO.'\n",
        "word_tokenize(sentence)"
      ],
      "metadata": {
        "colab": {
          "base_uri": "https://localhost:8080/"
        },
        "id": "pNpVdxesppls",
        "outputId": "2eec61e6-89d4-46c2-bebd-0d1af833838d"
      },
      "execution_count": null,
      "outputs": [
        {
          "output_type": "execute_result",
          "data": {
            "text/plain": [
              "['Vì vậy',\n",
              " ',',\n",
              " 'Văn phòng',\n",
              " 'Chính phủ',\n",
              " 'đã',\n",
              " 'báo cáo',\n",
              " 'Thủ tướng',\n",
              " 'cần',\n",
              " 'phải',\n",
              " 'thực hiện',\n",
              " 'các',\n",
              " 'biện pháp',\n",
              " 'phòng chống',\n",
              " 'dịch',\n",
              " 'cao',\n",
              " 'hơn',\n",
              " 'khuyến cáo',\n",
              " 'của',\n",
              " 'WHO',\n",
              " '.']"
            ]
          },
          "metadata": {},
          "execution_count": 5
        }
      ]
    },
    {
      "cell_type": "code",
      "source": [
        "word_tokenize(sentence, format=\"text\")"
      ],
      "metadata": {
        "colab": {
          "base_uri": "https://localhost:8080/",
          "height": 54
        },
        "id": "jramF8xXpstA",
        "outputId": "4d897214-89f0-48f5-c7a0-e77cddbe04da"
      },
      "execution_count": null,
      "outputs": [
        {
          "output_type": "execute_result",
          "data": {
            "text/plain": [
              "'Vì_vậy , Văn_phòng Chính_phủ đã báo_cáo Thủ_tướng cần phải thực_hiện các biện_pháp phòng_chống dịch cao hơn khuyến_cáo của WHO .'"
            ],
            "application/vnd.google.colaboratory.intrinsic+json": {
              "type": "string"
            }
          },
          "metadata": {},
          "execution_count": 7
        }
      ]
    },
    {
      "cell_type": "markdown",
      "source": [
        "### POS Tagging"
      ],
      "metadata": {
        "id": "FtTfyET2qoCD"
      }
    },
    {
      "cell_type": "code",
      "source": [
        "from underthesea import pos_tag\n",
        "pos_tag(sentence)"
      ],
      "metadata": {
        "colab": {
          "base_uri": "https://localhost:8080/"
        },
        "id": "pEuq5xKEq3rl",
        "outputId": "a4933105-bb40-46ce-df2f-931cbeb8c772"
      },
      "execution_count": null,
      "outputs": [
        {
          "output_type": "execute_result",
          "data": {
            "text/plain": [
              "[('Vì vậy', 'C'),\n",
              " (',', 'CH'),\n",
              " ('Văn phòng', 'N'),\n",
              " ('Chính phủ', 'N'),\n",
              " ('đã', 'R'),\n",
              " ('báo cáo', 'V'),\n",
              " ('Thủ tướng', 'N'),\n",
              " ('cần', 'V'),\n",
              " ('phải', 'V'),\n",
              " ('thực hiện', 'V'),\n",
              " ('các', 'L'),\n",
              " ('biện pháp', 'N'),\n",
              " ('phòng chống', 'V'),\n",
              " ('dịch', 'N'),\n",
              " ('cao', 'A'),\n",
              " ('hơn', 'A'),\n",
              " ('khuyến cáo', 'N'),\n",
              " ('của', 'E'),\n",
              " ('WHO', 'Np'),\n",
              " ('.', 'CH')]"
            ]
          },
          "metadata": {},
          "execution_count": 6
        }
      ]
    },
    {
      "cell_type": "markdown",
      "source": [
        "### Chunking"
      ],
      "metadata": {
        "id": "WAcN7owcrNGZ"
      }
    },
    {
      "cell_type": "code",
      "source": [
        "from underthesea import chunk\n",
        "chunk(sentence)"
      ],
      "metadata": {
        "colab": {
          "base_uri": "https://localhost:8080/"
        },
        "id": "aZSCamxQru4b",
        "outputId": "9bba6590-e6e7-4a42-99cc-2029eef5bc53"
      },
      "execution_count": null,
      "outputs": [
        {
          "output_type": "execute_result",
          "data": {
            "text/plain": [
              "[('Vì vậy', 'C', 'O'),\n",
              " (',', 'CH', 'O'),\n",
              " ('Văn phòng', 'N', 'B-NP'),\n",
              " ('Chính phủ', 'N', 'B-NP'),\n",
              " ('đã', 'R', 'O'),\n",
              " ('báo cáo', 'V', 'B-VP'),\n",
              " ('Thủ tướng', 'N', 'B-NP'),\n",
              " ('cần', 'V', 'B-VP'),\n",
              " ('phải', 'V', 'B-VP'),\n",
              " ('thực hiện', 'V', 'B-VP'),\n",
              " ('các', 'L', 'B-NP'),\n",
              " ('biện pháp', 'N', 'B-NP'),\n",
              " ('phòng chống', 'V', 'B-VP'),\n",
              " ('dịch', 'N', 'B-NP'),\n",
              " ('cao', 'A', 'B-AP'),\n",
              " ('hơn', 'A', 'B-AP'),\n",
              " ('khuyến cáo', 'N', 'B-NP'),\n",
              " ('của', 'E', 'B-PP'),\n",
              " ('WHO', 'Np', 'B-NP'),\n",
              " ('.', 'CH', 'O')]"
            ]
          },
          "metadata": {},
          "execution_count": 11
        }
      ]
    },
    {
      "cell_type": "markdown",
      "source": [
        "### Dependency Parsing"
      ],
      "metadata": {
        "id": "4wCFx6bqrzVn"
      }
    },
    {
      "cell_type": "code",
      "source": [
        "!pip install -q underthesea[deep]"
      ],
      "metadata": {
        "id": "RaQ774aUsJFn"
      },
      "execution_count": null,
      "outputs": []
    },
    {
      "cell_type": "code",
      "source": [
        "from underthesea import dependency_parse\n",
        "\n",
        "sentence = 'Tối 29/11, Việt Nam thêm 2 ca mắc Covid-19'\n",
        "dependency_parse(sentence)"
      ],
      "metadata": {
        "colab": {
          "base_uri": "https://localhost:8080/"
        },
        "id": "8b2vIU-WsN7B",
        "outputId": "f57e9d7f-6ffb-4acf-be61-2ba42e937772"
      },
      "execution_count": null,
      "outputs": [
        {
          "output_type": "stream",
          "name": "stderr",
          "text": []
        },
        {
          "output_type": "execute_result",
          "data": {
            "text/plain": [
              "[('Tối', 5, 'obl:tmod'),\n",
              " ('29/11', 1, 'compound'),\n",
              " (',', 4, 'punct'),\n",
              " ('Việt Nam', 5, 'nsubj'),\n",
              " ('thêm', 0, 'root'),\n",
              " ('2', 7, 'nummod'),\n",
              " ('ca', 5, 'obj'),\n",
              " ('mắc', 5, 'obj'),\n",
              " ('Covid-19', 5, 'punct')]"
            ]
          },
          "metadata": {},
          "execution_count": 14
        }
      ]
    },
    {
      "cell_type": "markdown",
      "source": [
        "### Named-Entity Recognition"
      ],
      "metadata": {
        "id": "28F3nrrAsuhl"
      }
    },
    {
      "cell_type": "code",
      "source": [
        "from underthesea import ner\n",
        "text = 'Chưa tiết lộ lịch trình tới Việt Nam của Tổng thống Mỹ Donald Trump'\n",
        "ner(text)"
      ],
      "metadata": {
        "colab": {
          "base_uri": "https://localhost:8080/"
        },
        "id": "tVQwsIWUs5ah",
        "outputId": "5ba7e634-806b-44b4-c79d-f0d322323c3f"
      },
      "execution_count": null,
      "outputs": [
        {
          "output_type": "execute_result",
          "data": {
            "text/plain": [
              "[('Chưa', 'R', 'O', 'O'),\n",
              " ('tiết lộ', 'V', 'B-VP', 'O'),\n",
              " ('lịch trình', 'V', 'B-VP', 'O'),\n",
              " ('tới', 'E', 'B-PP', 'O'),\n",
              " ('Việt Nam', 'Np', 'B-NP', 'B-LOC'),\n",
              " ('của', 'E', 'B-PP', 'O'),\n",
              " ('Tổng thống', 'N', 'B-NP', 'B-LOC'),\n",
              " ('Mỹ Donald Trump', 'Np', 'B-NP', 'I-LOC')]"
            ]
          },
          "metadata": {},
          "execution_count": 15
        }
      ]
    },
    {
      "cell_type": "markdown",
      "source": [
        "## Other NLP Toolkits\n",
        "\n",
        "- [VnCoreNLP](https://github.com/vncorenlp/VnCoreNLP) (Java)\n",
        "- [UETnlp](https://github.com/phongnt570/UETnlp) (Java)\n",
        "- [trankit](https://github.com/nlp-uoregon/trankit)\n",
        "- [pyvi](https://github.com/trungtv/pyvi)\n",
        "- [PhoNLP](https://github.com/VinAIResearch/PhoNLP)"
      ],
      "metadata": {
        "id": "9ivvKwjmvsYk"
      }
    },
    {
      "cell_type": "markdown",
      "source": [
        "## Other NLP tasks in Vietnamese\n",
        "\n"
      ],
      "metadata": {
        "id": "E8FQ5ihBv_EQ"
      }
    },
    {
      "cell_type": "markdown",
      "source": [
        "### Spelling & Grammar Error Correction\n",
        "\n",
        "Correct sentences with spelling and grammar errors such as \"Cô ấy rất sinh đẹp.\""
      ],
      "metadata": {
        "id": "jL55_7FMxAhc"
      }
    },
    {
      "cell_type": "markdown",
      "source": [
        "### Diacritics Restoration\n",
        "\n",
        "Restore diactritics in Vietnamese sentences. For instance\n",
        "\"truong dai hoc khoa hoc va cong nghe hien dang la co so dao tao cntt hang dau viet nam.\""
      ],
      "metadata": {
        "id": "yO3oK3WGxBfJ"
      }
    }
  ]
}