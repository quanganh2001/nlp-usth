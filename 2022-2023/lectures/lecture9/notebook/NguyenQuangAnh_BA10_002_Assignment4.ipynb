{
  "metadata": {
    "kernelspec": {
      "language": "python",
      "display_name": "Python 3",
      "name": "python3"
    },
    "language_info": {
      "pygments_lexer": "ipython3",
      "nbconvert_exporter": "python",
      "version": "3.6.4",
      "file_extension": ".py",
      "codemirror_mode": {
        "name": "ipython",
        "version": 3
      },
      "name": "python",
      "mimetype": "text/x-python"
    },
    "colab": {
      "provenance": []
    }
  },
  "nbformat_minor": 0,
  "nbformat": 4,
  "cells": [
    {
      "cell_type": "markdown",
      "source": [
        "# Named Entity Recognition with MIT Restaurant Dataset\n",
        "\n",
        "Your name: Nguyen Quang Anh\n",
        "\n",
        "Student ID: BA10-002\n",
        "\n",
        "**Due: 23:59 19/3/2023**\n",
        "\n",
        "# Task Description\n",
        "\n",
        "In this assignment, you will train a NER Model using Conditional Random Fields (CRF) on and report the accuracy of your model on the test dataset.\n",
        "\n",
        "You will use the [MIT Restaurant Dataset](https://groups.csail.mit.edu/sls/downloads/restaurant/) dataset to do the task.\n",
        "\n",
        "# How to submit\n",
        "\n",
        "- Attach notebook file (.ipynb) and submit your work to Google Class Room\n",
        "- Name your file as YourName_StudentID_Assignment4.ibynb. E.g., Nguyen_Van_A_ST099834_Assignment4.ipynb\n",
        "- Write your name and student ID into this notebook\n",
        "- Copying others' assignments is strictly prohibited."
      ],
      "metadata": {
        "id": "lShQqZdzNiCF"
      }
    },
    {
      "cell_type": "markdown",
      "source": [
        "# Install python-crfsuite"
      ],
      "metadata": {
        "id": "2292KfzBNiCH"
      }
    },
    {
      "cell_type": "code",
      "source": [
        "!pip install -q python-crfsuite"
      ],
      "metadata": {
        "execution": {
          "iopub.status.busy": "2023-03-10T05:22:55.022214Z",
          "iopub.execute_input": "2023-03-10T05:22:55.023319Z",
          "iopub.status.idle": "2023-03-10T05:23:08.741603Z",
          "shell.execute_reply.started": "2023-03-10T05:22:55.023274Z",
          "shell.execute_reply": "2023-03-10T05:23:08.740141Z"
        },
        "trusted": true,
        "colab": {
          "base_uri": "https://localhost:8080/"
        },
        "id": "fT7DBKdGNiCH",
        "outputId": "f4370897-3d85-4e69-e02f-c2599f2deed6"
      },
      "execution_count": null,
      "outputs": [
        {
          "output_type": "stream",
          "name": "stdout",
          "text": [
            "\u001b[?25l     \u001b[90m━━━━━━━━━━━━━━━━━━━━━━━━━━━━━━━━━━━━━━━━\u001b[0m \u001b[32m0.0/1.0 MB\u001b[0m \u001b[31m?\u001b[0m eta \u001b[36m-:--:--\u001b[0m\r\u001b[2K     \u001b[91m━━━━━━━━\u001b[0m\u001b[91m╸\u001b[0m\u001b[90m━━━━━━━━━━━━━━━━━━━━━━━━━━━━━━━\u001b[0m \u001b[32m0.2/1.0 MB\u001b[0m \u001b[31m7.2 MB/s\u001b[0m eta \u001b[36m0:00:01\u001b[0m\r\u001b[2K     \u001b[91m━━━━━━━━━━━━━━━━━━━━━━━━━━━━━━━━━━━━━━━\u001b[0m\u001b[91m╸\u001b[0m \u001b[32m1.0/1.0 MB\u001b[0m \u001b[31m17.0 MB/s\u001b[0m eta \u001b[36m0:00:01\u001b[0m\r\u001b[2K     \u001b[91m━━━━━━━━━━━━━━━━━━━━━━━━━━━━━━━━━━━━━━━\u001b[0m\u001b[91m╸\u001b[0m \u001b[32m1.0/1.0 MB\u001b[0m \u001b[31m17.0 MB/s\u001b[0m eta \u001b[36m0:00:01\u001b[0m\r\u001b[2K     \u001b[91m━━━━━━━━━━━━━━━━━━━━━━━━━━━━━━━━━━━━━━━\u001b[0m\u001b[91m╸\u001b[0m \u001b[32m1.0/1.0 MB\u001b[0m \u001b[31m17.0 MB/s\u001b[0m eta \u001b[36m0:00:01\u001b[0m\r\u001b[2K     \u001b[90m━━━━━━━━━━━━━━━━━━━━━━━━━━━━━━━━━━━━━━━━\u001b[0m \u001b[32m1.0/1.0 MB\u001b[0m \u001b[31m6.5 MB/s\u001b[0m eta \u001b[36m0:00:00\u001b[0m\n",
            "\u001b[?25h"
          ]
        }
      ]
    },
    {
      "cell_type": "markdown",
      "source": [
        "# Imports"
      ],
      "metadata": {
        "id": "JnxyD2G5NiCI"
      }
    },
    {
      "cell_type": "code",
      "source": [
        "from itertools import chain\n",
        "import pycrfsuite"
      ],
      "metadata": {
        "execution": {
          "iopub.status.busy": "2023-03-10T05:23:08.744987Z",
          "iopub.execute_input": "2023-03-10T05:23:08.745901Z",
          "iopub.status.idle": "2023-03-10T05:23:08.759509Z",
          "shell.execute_reply.started": "2023-03-10T05:23:08.745849Z",
          "shell.execute_reply": "2023-03-10T05:23:08.758122Z"
        },
        "trusted": true,
        "id": "u7aUhpYwNiCJ"
      },
      "execution_count": null,
      "outputs": []
    },
    {
      "cell_type": "markdown",
      "source": [
        "# Dataset\n",
        "\n",
        "We will use [MIT Restaurant Dataset](https://groups.csail.mit.edu/sls/downloads/restaurant/) dataset.\n",
        "\n",
        "The data set is already in CoNLL format. We will use the [train](https://groups.csail.mit.edu/sls/downloads/restaurant/restauranttrain.bio) data to create the NER model and evaluate the model on the [test](https://groups.csail.mit.edu/sls/downloads/restaurant/restauranttest.bio) data."
      ],
      "metadata": {
        "id": "0BCP_YlnNiCJ"
      }
    },
    {
      "cell_type": "code",
      "source": [
        "%%capture\n",
        "!rm -f restauranttrain.bio\n",
        "!rm -f restauranttest.bio\n",
        "\n",
        "!wget https://groups.csail.mit.edu/sls/downloads/restaurant/restauranttest.bio\n",
        "!wget https://groups.csail.mit.edu/sls/downloads/restaurant/restauranttrain.bio"
      ],
      "metadata": {
        "execution": {
          "iopub.status.busy": "2023-03-10T05:23:08.760678Z",
          "iopub.execute_input": "2023-03-10T05:23:08.761013Z",
          "iopub.status.idle": "2023-03-10T05:23:17.137857Z",
          "shell.execute_reply.started": "2023-03-10T05:23:08.760972Z",
          "shell.execute_reply": "2023-03-10T05:23:17.136194Z"
        },
        "trusted": true,
        "id": "3LdPPhNdNiCK"
      },
      "execution_count": null,
      "outputs": []
    },
    {
      "cell_type": "markdown",
      "source": [
        "# Loading data (50 points)\n",
        "\n",
        "In this part, you will load a data file into a list of sentences. Each sentence is a list of (word, tag) tuples.\n",
        "\n",
        "For instance, the sentence below will be loaded into a list\n",
        "\n",
        "```\n",
        "O\ta\n",
        "B-Rating\tfour\n",
        "I-Rating\tstar\n",
        "O\trestaurant\n",
        "B-Location\twith\n",
        "I-Location\ta\n",
        "B-Amenity\tbar\n",
        "```\n",
        "\n",
        "You will complete the function below"
      ],
      "metadata": {
        "id": "nRVL9fNtNiCK"
      }
    },
    {
      "cell_type": "markdown",
      "source": [
        "Here's the implementation of the `load_data` function to load the data from the specified file path and return it as a list of sentences, where each sentence is a list of tuples representing (word, tag) pairs:"
      ],
      "metadata": {
        "id": "g4fjyvkKNiCL"
      }
    },
    {
      "cell_type": "code",
      "source": [
        "def load_data(file_path):\n",
        "    \"\"\"Load data into a list of list of (word, tag) tuples\n",
        "\n",
        "    Args:\n",
        "        file_path (str): Path to data\n",
        "\n",
        "    Returns:\n",
        "        sentences: list of (word, tag) tuples\n",
        "    \"\"\"\n",
        "    sentences = []\n",
        "    with open(file_path, 'r') as file:\n",
        "        sentence = []\n",
        "        for line in file:\n",
        "            line = line.strip()\n",
        "            if line:\n",
        "                tag, word = line.split()\n",
        "                sentence.append((word, tag))\n",
        "            else:\n",
        "                sentences.append(sentence)\n",
        "                sentence = []\n",
        "        if sentence:\n",
        "            sentences.append(sentence)\n",
        "    return sentences"
      ],
      "metadata": {
        "execution": {
          "iopub.status.busy": "2023-03-10T05:23:27.420272Z",
          "iopub.execute_input": "2023-03-10T05:23:27.421448Z",
          "iopub.status.idle": "2023-03-10T05:23:27.430124Z",
          "shell.execute_reply.started": "2023-03-10T05:23:27.421397Z",
          "shell.execute_reply": "2023-03-10T05:23:27.429120Z"
        },
        "trusted": true,
        "id": "Wo0RUgLiNiCM"
      },
      "execution_count": null,
      "outputs": []
    },
    {
      "cell_type": "markdown",
      "source": [
        "Here, we open the file at the specified path, read the lines, and then loop through the lines. For each line, we first check if it's an empty line. If it is, then we check if the current sentence has any words in it. If it does, we append it to the list of sentences and start a new sentence. If the line is not empty, then we split it by the tab character to get the word and tag, and append it to the current sentence. Finally, we check if there are any remaining words in the last sentence and append it to the list of sentences if there are."
      ],
      "metadata": {
        "id": "aGcz1WWeNiCM"
      }
    },
    {
      "cell_type": "code",
      "source": [
        "train_sents = load_data('restauranttrain.bio')\n",
        "test_sents = load_data('restauranttest.bio')"
      ],
      "metadata": {
        "execution": {
          "iopub.status.busy": "2023-03-10T05:23:32.198572Z",
          "iopub.execute_input": "2023-03-10T05:23:32.199412Z",
          "iopub.status.idle": "2023-03-10T05:23:32.270733Z",
          "shell.execute_reply.started": "2023-03-10T05:23:32.199359Z",
          "shell.execute_reply": "2023-03-10T05:23:32.269423Z"
        },
        "trusted": true,
        "id": "66sxGKkoNiCN"
      },
      "execution_count": null,
      "outputs": []
    },
    {
      "cell_type": "markdown",
      "source": [
        "Let's check the number of sentences in train and test data"
      ],
      "metadata": {
        "id": "tE1eGVuHNiCN"
      }
    },
    {
      "cell_type": "code",
      "source": [
        "len(train_sents)"
      ],
      "metadata": {
        "execution": {
          "iopub.status.busy": "2023-03-10T05:23:33.942039Z",
          "iopub.execute_input": "2023-03-10T05:23:33.942477Z",
          "iopub.status.idle": "2023-03-10T05:23:33.951485Z",
          "shell.execute_reply.started": "2023-03-10T05:23:33.942436Z",
          "shell.execute_reply": "2023-03-10T05:23:33.950087Z"
        },
        "trusted": true,
        "colab": {
          "base_uri": "https://localhost:8080/"
        },
        "id": "7p_t4HS2NiCN",
        "outputId": "b82cec69-0725-4114-f997-055be322d5ae"
      },
      "execution_count": null,
      "outputs": [
        {
          "output_type": "execute_result",
          "data": {
            "text/plain": [
              "7660"
            ]
          },
          "metadata": {},
          "execution_count": 6
        }
      ]
    },
    {
      "cell_type": "code",
      "source": [
        "len(test_sents)"
      ],
      "metadata": {
        "execution": {
          "iopub.status.busy": "2023-03-10T05:23:35.575031Z",
          "iopub.execute_input": "2023-03-10T05:23:35.575476Z",
          "iopub.status.idle": "2023-03-10T05:23:35.581758Z",
          "shell.execute_reply.started": "2023-03-10T05:23:35.575436Z",
          "shell.execute_reply": "2023-03-10T05:23:35.580922Z"
        },
        "trusted": true,
        "colab": {
          "base_uri": "https://localhost:8080/"
        },
        "id": "p9Y-clDINiCN",
        "outputId": "479b4cac-33de-4f8e-c340-8a559271efff"
      },
      "execution_count": null,
      "outputs": [
        {
          "output_type": "execute_result",
          "data": {
            "text/plain": [
              "1521"
            ]
          },
          "metadata": {},
          "execution_count": 7
        }
      ]
    },
    {
      "cell_type": "code",
      "source": [
        "train_sents[0]"
      ],
      "metadata": {
        "execution": {
          "iopub.status.busy": "2023-03-10T05:23:37.200009Z",
          "iopub.execute_input": "2023-03-10T05:23:37.200497Z",
          "iopub.status.idle": "2023-03-10T05:23:37.208938Z",
          "shell.execute_reply.started": "2023-03-10T05:23:37.200450Z",
          "shell.execute_reply": "2023-03-10T05:23:37.207639Z"
        },
        "trusted": true,
        "colab": {
          "base_uri": "https://localhost:8080/"
        },
        "id": "m9m5JdDwNiCO",
        "outputId": "baef94ba-a458-446f-dfdc-249c1ea2094c"
      },
      "execution_count": null,
      "outputs": [
        {
          "output_type": "execute_result",
          "data": {
            "text/plain": [
              "[('2', 'B-Rating'),\n",
              " ('start', 'I-Rating'),\n",
              " ('restaurants', 'O'),\n",
              " ('with', 'O'),\n",
              " ('inside', 'B-Amenity'),\n",
              " ('dining', 'I-Amenity')]"
            ]
          },
          "metadata": {},
          "execution_count": 8
        }
      ]
    },
    {
      "cell_type": "markdown",
      "source": [
        "# Features (50 points)\n",
        "\n",
        "We can extract as many features as you want. You will implement following basic features.\n",
        "\n",
        "※ Of course, you can add more features.\n",
        "\n",
        "*Word identity (lowercase)*\n",
        "\n",
        "- Previous word identity\n",
        "- Current word identity\n",
        "- Next word\n",
        "- Previous word and current word combination. Concat the previous word the current word by '||'\n",
        "- Current word and next word combination. Concat two words by '||'\n",
        "\n",
        "*Word shapes*\n",
        "\n",
        "- Word prefix and suffix (4 characters)\n",
        "- The first character of the current word is the capital letter\n",
        "\n",
        "**All you need to do is to complete the function `word2feature`.**"
      ],
      "metadata": {
        "id": "UIRQ8pmmNiCO"
      }
    },
    {
      "cell_type": "markdown",
      "source": [
        "Here's the implementation of the `word2features` function to extract the specified features for a given word in a sentence:"
      ],
      "metadata": {
        "id": "ctL_Ri8sNiCP"
      }
    },
    {
      "cell_type": "code",
      "source": [
        "def word2features(sentence, i):\n",
        "    \"\"\"\n",
        "    Arguments:\n",
        "        sentence (list): list of words [w1, w2,...,w_n]\n",
        "        i (int): index of the word\n",
        "    Return:\n",
        "        features (dict): dictionary of features\n",
        "    \"\"\"\n",
        "    word = sentence[i]\n",
        "    prev_word = '' if i==0 else sentence[i-1].lower()\n",
        "    next_word = '' if i==len(sentence)-1 else sentence[i+1].lower()\n",
        "    features = {\n",
        "        'word.lower()': word.lower(),\n",
        "        'prev_word.lower()': prev_word,\n",
        "        'next_word.lower()': next_word,\n",
        "        'prev_cur_word': prev_word + '||' + word.lower(),\n",
        "        'cur_next_word': word.lower() + '||' + next_word,\n",
        "        'prefix_4': word[:4],\n",
        "        'suffix_4': word[-4:],\n",
        "        'first_letter_upper': int(word[0].isupper())\n",
        "    }\n",
        "    return features\n",
        "\n",
        "\n",
        "\n",
        "def sent2features(sentence):\n",
        "    \"\"\"\n",
        "    sentence is a list of words [w1, w2,...,w_n]\n",
        "    \"\"\"\n",
        "    return [word2features(sentence, i) for i in range(len(sentence))]\n",
        "\n",
        "\n",
        "def sent2labels(sentence):\n",
        "    \"\"\"\n",
        "    sentence is a list of tuples (word, postag)\n",
        "    \"\"\"\n",
        "    return [tag for token, tag in sentence]\n",
        "\n",
        "def untag(sentence):\n",
        "    \"\"\"\n",
        "    sentence is a list of tuples (word, postag)\n",
        "    \"\"\"\n",
        "    return [token for token, _ in sentence]"
      ],
      "metadata": {
        "execution": {
          "iopub.status.busy": "2023-03-10T05:23:52.278651Z",
          "iopub.execute_input": "2023-03-10T05:23:52.279081Z",
          "iopub.status.idle": "2023-03-10T05:23:52.289724Z",
          "shell.execute_reply.started": "2023-03-10T05:23:52.279048Z",
          "shell.execute_reply": "2023-03-10T05:23:52.288434Z"
        },
        "trusted": true,
        "id": "Qgpg4fXDNiCP"
      },
      "execution_count": null,
      "outputs": []
    },
    {
      "cell_type": "markdown",
      "source": [
        "Here, we first get the current word, the previous word, and the next word from the sentence. We also get the word shape by calling the `get_word_shape` function, which we will define later. Then, we create a dictionary of features with the following keys:\n",
        "\n",
        "- `word.lower`: The lowercase version of the current word\n",
        "- `prev_word.lower`: The lowercase version of the previous word\n",
        "- `next_word.lower`: The lowercase version of the next word\n",
        "- `prev_word+word.lower`: The concatenation of the lowercase previous word and the lowercase current word, separated by ||\n",
        "- `word.lower+next_word`: The concatenation of the lowercase current word and the lowercase next word, separated by ||\n",
        "- `word_shape.prefix`: The first four characters of the word shape\n",
        "- `word_shape.suffix`: The last four characters of the word shape\n",
        "- `word.istitle`: A boolean indicating whether the current word starts with a capital letter\n",
        "\n",
        "The `get_word_shape` function takes a word as input and returns a tuple of its prefix and suffix shapes, which are created by replacing digits with d, uppercase letters with X, lowercase letters with x, and other characters with themselves. The prefix and suffix shapes are the first and last four characters of the word shape, respectively, or the entire shape if it's shorter than four characters.\n",
        "\n",
        "Finally, we return the dictionary of features."
      ],
      "metadata": {
        "id": "jiipSqaQNiCQ"
      }
    },
    {
      "cell_type": "markdown",
      "source": [
        "Let's try to exact features for the first sentence"
      ],
      "metadata": {
        "id": "WFrnCuNjNiCQ"
      }
    },
    {
      "cell_type": "code",
      "source": [
        "train_sents[0]"
      ],
      "metadata": {
        "execution": {
          "iopub.status.busy": "2023-03-10T05:23:54.663505Z",
          "iopub.execute_input": "2023-03-10T05:23:54.664126Z",
          "iopub.status.idle": "2023-03-10T05:23:54.670949Z",
          "shell.execute_reply.started": "2023-03-10T05:23:54.664089Z",
          "shell.execute_reply": "2023-03-10T05:23:54.669744Z"
        },
        "trusted": true,
        "colab": {
          "base_uri": "https://localhost:8080/"
        },
        "id": "qoOAD0MUNiCQ",
        "outputId": "e88fcc7c-ec0b-452e-b45e-43f33b1311e4"
      },
      "execution_count": null,
      "outputs": [
        {
          "output_type": "execute_result",
          "data": {
            "text/plain": [
              "[('2', 'B-Rating'),\n",
              " ('start', 'I-Rating'),\n",
              " ('restaurants', 'O'),\n",
              " ('with', 'O'),\n",
              " ('inside', 'B-Amenity'),\n",
              " ('dining', 'I-Amenity')]"
            ]
          },
          "metadata": {},
          "execution_count": 10
        }
      ]
    },
    {
      "cell_type": "code",
      "source": [
        "sent2features(untag(train_sents[0]))[0]"
      ],
      "metadata": {
        "execution": {
          "iopub.status.busy": "2023-03-10T05:23:56.086767Z",
          "iopub.execute_input": "2023-03-10T05:23:56.087200Z",
          "iopub.status.idle": "2023-03-10T05:23:56.095229Z",
          "shell.execute_reply.started": "2023-03-10T05:23:56.087161Z",
          "shell.execute_reply": "2023-03-10T05:23:56.094017Z"
        },
        "trusted": true,
        "colab": {
          "base_uri": "https://localhost:8080/"
        },
        "id": "cCYiBw91NiCQ",
        "outputId": "5b84f35a-75b2-4a3a-a7dd-e3fd4f403034"
      },
      "execution_count": null,
      "outputs": [
        {
          "output_type": "execute_result",
          "data": {
            "text/plain": [
              "{'word.lower()': '2',\n",
              " 'prev_word.lower()': '',\n",
              " 'next_word.lower()': 'start',\n",
              " 'prev_cur_word': '||2',\n",
              " 'cur_next_word': '2||start',\n",
              " 'prefix_4': '2',\n",
              " 'suffix_4': '2',\n",
              " 'first_letter_upper': 0}"
            ]
          },
          "metadata": {},
          "execution_count": 11
        }
      ]
    },
    {
      "cell_type": "markdown",
      "source": [
        "# Create train/test data"
      ],
      "metadata": {
        "id": "lI3M1xa-NiCQ"
      }
    },
    {
      "cell_type": "code",
      "source": [
        "X_train = [sent2features(untag(s)) for s in train_sents]\n",
        "y_train = [sent2labels(s) for s in train_sents]\n",
        "\n",
        "X_test = [sent2features(untag(s)) for s in test_sents]\n",
        "y_test = [sent2labels(s) for s in test_sents]"
      ],
      "metadata": {
        "execution": {
          "iopub.status.busy": "2023-03-10T05:23:58.316797Z",
          "iopub.execute_input": "2023-03-10T05:23:58.317709Z",
          "iopub.status.idle": "2023-03-10T05:23:58.697220Z",
          "shell.execute_reply.started": "2023-03-10T05:23:58.317664Z",
          "shell.execute_reply": "2023-03-10T05:23:58.695954Z"
        },
        "trusted": true,
        "id": "B5np7SO-NiCR"
      },
      "execution_count": null,
      "outputs": []
    },
    {
      "cell_type": "markdown",
      "source": [
        "# Training"
      ],
      "metadata": {
        "id": "WqIiIm21NiCR"
      }
    },
    {
      "cell_type": "code",
      "source": [
        "%%time\n",
        "trainer = pycrfsuite.Trainer(verbose=False)\n",
        "\n",
        "for xseq, yseq in zip(X_train, y_train):\n",
        "    trainer.append(xseq, yseq)"
      ],
      "metadata": {
        "execution": {
          "iopub.status.busy": "2023-03-10T05:23:59.737116Z",
          "iopub.execute_input": "2023-03-10T05:23:59.738017Z",
          "iopub.status.idle": "2023-03-10T05:24:00.401363Z",
          "shell.execute_reply.started": "2023-03-10T05:23:59.737968Z",
          "shell.execute_reply": "2023-03-10T05:24:00.399942Z"
        },
        "trusted": true,
        "colab": {
          "base_uri": "https://localhost:8080/"
        },
        "id": "Alv3WC6uNiCR",
        "outputId": "f9ddcb81-ca89-4d90-b1fb-00612e59912e"
      },
      "execution_count": null,
      "outputs": [
        {
          "output_type": "stream",
          "name": "stdout",
          "text": [
            "CPU times: user 623 ms, sys: 11 ms, total: 634 ms\n",
            "Wall time: 636 ms\n"
          ]
        }
      ]
    },
    {
      "cell_type": "markdown",
      "source": [
        "# Set model parameters"
      ],
      "metadata": {
        "id": "OwqspB7gNiCR"
      }
    },
    {
      "cell_type": "code",
      "source": [
        "#@title Set model parameters\n",
        "\n",
        "max_iterations = 50 #@param[50, 20, 100]\n",
        "\n",
        "trainer.set_params({\n",
        "    'c1': 1.0,   # coefficient for L1 penalty\n",
        "    'c2': 1e-3,  # coefficient for L2 penalty\n",
        "    'max_iterations': max_iterations,\n",
        "\n",
        "    # include transitions that are possible, but not observed\n",
        "    'feature.possible_transitions': True\n",
        "})"
      ],
      "metadata": {
        "execution": {
          "iopub.status.busy": "2023-03-10T05:24:02.158912Z",
          "iopub.execute_input": "2023-03-10T05:24:02.159299Z",
          "iopub.status.idle": "2023-03-10T05:24:02.165677Z",
          "shell.execute_reply.started": "2023-03-10T05:24:02.159265Z",
          "shell.execute_reply": "2023-03-10T05:24:02.164358Z"
        },
        "trusted": true,
        "id": "Rx4iWQpyNiCR"
      },
      "execution_count": null,
      "outputs": []
    },
    {
      "cell_type": "code",
      "source": [
        "%%time\n",
        "trainer.train('mitrestaurant.crfsuite')"
      ],
      "metadata": {
        "execution": {
          "iopub.status.busy": "2023-03-10T05:24:04.773380Z",
          "iopub.execute_input": "2023-03-10T05:24:04.774126Z",
          "iopub.status.idle": "2023-03-10T05:24:13.506221Z",
          "shell.execute_reply.started": "2023-03-10T05:24:04.774060Z",
          "shell.execute_reply": "2023-03-10T05:24:13.504847Z"
        },
        "trusted": true,
        "colab": {
          "base_uri": "https://localhost:8080/"
        },
        "id": "h_RYFCWQNiCR",
        "outputId": "f38c7d59-05b6-472c-9e59-cced3957aa1a"
      },
      "execution_count": null,
      "outputs": [
        {
          "output_type": "stream",
          "name": "stdout",
          "text": [
            "CPU times: user 8.46 s, sys: 71.1 ms, total: 8.53 s\n",
            "Wall time: 9.12 s\n"
          ]
        }
      ]
    },
    {
      "cell_type": "markdown",
      "source": [
        "# Evaluation\n",
        "\n",
        "We will use [seqeval](https://github.com/chakki-works/seqeval) package for evaluation NER result."
      ],
      "metadata": {
        "id": "X31RyB8MNiCS"
      }
    },
    {
      "cell_type": "code",
      "source": [
        "!pip install -q seqeval[cpu]"
      ],
      "metadata": {
        "execution": {
          "iopub.status.busy": "2023-03-10T05:24:26.661899Z",
          "iopub.execute_input": "2023-03-10T05:24:26.662300Z",
          "iopub.status.idle": "2023-03-10T05:24:45.591483Z",
          "shell.execute_reply.started": "2023-03-10T05:24:26.662266Z",
          "shell.execute_reply": "2023-03-10T05:24:45.590411Z"
        },
        "trusted": true,
        "colab": {
          "base_uri": "https://localhost:8080/"
        },
        "id": "9V4_AMPZNiCS",
        "outputId": "6771a226-bb5f-4c58-9ec0-cc963ccd9289"
      },
      "execution_count": null,
      "outputs": [
        {
          "output_type": "stream",
          "name": "stdout",
          "text": [
            "\u001b[?25l     \u001b[90m━━━━━━━━━━━━━━━━━━━━━━━━━━━━━━━━━━━━━━━━\u001b[0m \u001b[32m0.0/43.6 KB\u001b[0m \u001b[31m?\u001b[0m eta \u001b[36m-:--:--\u001b[0m\r\u001b[2K     \u001b[90m━━━━━━━━━━━━━━━━━━━━━━━━━━━━━━━━━━━━━━━━\u001b[0m \u001b[32m43.6/43.6 KB\u001b[0m \u001b[31m1.7 MB/s\u001b[0m eta \u001b[36m0:00:00\u001b[0m\n",
            "\u001b[?25h  Preparing metadata (setup.py) ... \u001b[?25l\u001b[?25hdone\n",
            "  Building wheel for seqeval (setup.py) ... \u001b[?25l\u001b[?25hdone\n"
          ]
        }
      ]
    },
    {
      "cell_type": "markdown",
      "source": [
        "# Make Predictions"
      ],
      "metadata": {
        "id": "Is1QiNNbNiCS"
      }
    },
    {
      "cell_type": "code",
      "source": [
        "tagger = pycrfsuite.Tagger()\n",
        "tagger.open('mitrestaurant.crfsuite')"
      ],
      "metadata": {
        "execution": {
          "iopub.status.busy": "2023-03-10T05:24:48.291088Z",
          "iopub.execute_input": "2023-03-10T05:24:48.291920Z",
          "iopub.status.idle": "2023-03-10T05:24:48.301471Z",
          "shell.execute_reply.started": "2023-03-10T05:24:48.291871Z",
          "shell.execute_reply": "2023-03-10T05:24:48.300144Z"
        },
        "trusted": true,
        "colab": {
          "base_uri": "https://localhost:8080/"
        },
        "id": "lk2jBioHNiCS",
        "outputId": "19576e0c-1be7-4251-8d8a-0fb6b8cc0c04"
      },
      "execution_count": null,
      "outputs": [
        {
          "output_type": "execute_result",
          "data": {
            "text/plain": [
              "<contextlib.closing at 0x7fad38bae1f0>"
            ]
          },
          "metadata": {},
          "execution_count": 17
        }
      ]
    },
    {
      "cell_type": "code",
      "source": [
        "example_sent = test_sents[0]\n",
        "example_sent"
      ],
      "metadata": {
        "execution": {
          "iopub.status.busy": "2023-03-10T05:24:52.521320Z",
          "iopub.execute_input": "2023-03-10T05:24:52.521742Z",
          "iopub.status.idle": "2023-03-10T05:24:52.531319Z",
          "shell.execute_reply.started": "2023-03-10T05:24:52.521707Z",
          "shell.execute_reply": "2023-03-10T05:24:52.530034Z"
        },
        "trusted": true,
        "colab": {
          "base_uri": "https://localhost:8080/"
        },
        "id": "RHMk8Qo1NiCT",
        "outputId": "9e468b57-fa07-4a6e-d8bc-535002147114"
      },
      "execution_count": null,
      "outputs": [
        {
          "output_type": "execute_result",
          "data": {
            "text/plain": [
              "[('a', 'O'),\n",
              " ('four', 'B-Rating'),\n",
              " ('star', 'I-Rating'),\n",
              " ('restaurant', 'O'),\n",
              " ('with', 'B-Location'),\n",
              " ('a', 'I-Location'),\n",
              " ('bar', 'B-Amenity')]"
            ]
          },
          "metadata": {},
          "execution_count": 18
        }
      ]
    },
    {
      "cell_type": "code",
      "source": [
        "print(\"Predicted:\", ' '.join(tagger.tag(sent2features(untag(example_sent)))))\n",
        "print(\"Correct:  \", ' '.join(sent2labels(example_sent)))"
      ],
      "metadata": {
        "execution": {
          "iopub.status.busy": "2023-03-10T05:24:55.794507Z",
          "iopub.execute_input": "2023-03-10T05:24:55.795354Z",
          "iopub.status.idle": "2023-03-10T05:24:55.803708Z",
          "shell.execute_reply.started": "2023-03-10T05:24:55.795282Z",
          "shell.execute_reply": "2023-03-10T05:24:55.802392Z"
        },
        "trusted": true,
        "colab": {
          "base_uri": "https://localhost:8080/"
        },
        "id": "I15RzPbpNiCT",
        "outputId": "85a7e0e1-95ff-445b-9b13-24d9d6058cea"
      },
      "execution_count": null,
      "outputs": [
        {
          "output_type": "stream",
          "name": "stdout",
          "text": [
            "Predicted: O B-Rating I-Rating O O O B-Amenity\n",
            "Correct:   O B-Rating I-Rating O B-Location I-Location B-Amenity\n"
          ]
        }
      ]
    },
    {
      "cell_type": "code",
      "source": [
        "%%time\n",
        "y_pred = [tagger.tag(xseq) for xseq in X_test]"
      ],
      "metadata": {
        "execution": {
          "iopub.status.busy": "2023-03-10T05:24:59.206074Z",
          "iopub.execute_input": "2023-03-10T05:24:59.206898Z",
          "iopub.status.idle": "2023-03-10T05:24:59.313624Z",
          "shell.execute_reply.started": "2023-03-10T05:24:59.206824Z",
          "shell.execute_reply": "2023-03-10T05:24:59.312434Z"
        },
        "trusted": true,
        "colab": {
          "base_uri": "https://localhost:8080/"
        },
        "id": "A1e4JF2oNiCT",
        "outputId": "5b2e3fb2-009d-4533-896f-51305fa1074e"
      },
      "execution_count": null,
      "outputs": [
        {
          "output_type": "stream",
          "name": "stdout",
          "text": [
            "CPU times: user 77.1 ms, sys: 958 µs, total: 78 ms\n",
            "Wall time: 78.5 ms\n"
          ]
        }
      ]
    },
    {
      "cell_type": "code",
      "source": [
        "from seqeval.metrics import classification_report\n",
        "\n",
        "print(classification_report(y_test, y_pred))"
      ],
      "metadata": {
        "execution": {
          "iopub.status.busy": "2023-03-10T05:25:01.824911Z",
          "iopub.execute_input": "2023-03-10T05:25:01.825305Z",
          "iopub.status.idle": "2023-03-10T05:25:02.517751Z",
          "shell.execute_reply.started": "2023-03-10T05:25:01.825261Z",
          "shell.execute_reply": "2023-03-10T05:25:02.516418Z"
        },
        "trusted": true,
        "colab": {
          "base_uri": "https://localhost:8080/"
        },
        "id": "xv9l46r_NiCT",
        "outputId": "80f67b14-d612-4521-9e72-3b5e6a62f84f"
      },
      "execution_count": null,
      "outputs": [
        {
          "output_type": "stream",
          "name": "stdout",
          "text": [
            "                 precision    recall  f1-score   support\n",
            "\n",
            "        Amenity       0.71      0.65      0.68       533\n",
            "        Cuisine       0.84      0.81      0.83       532\n",
            "           Dish       0.78      0.72      0.75       288\n",
            "          Hours       0.73      0.65      0.69       212\n",
            "       Location       0.82      0.80      0.81       812\n",
            "          Price       0.80      0.81      0.80       171\n",
            "         Rating       0.79      0.77      0.78       201\n",
            "Restaurant_Name       0.78      0.75      0.77       402\n",
            "\n",
            "      micro avg       0.79      0.75      0.77      3151\n",
            "      macro avg       0.78      0.75      0.76      3151\n",
            "   weighted avg       0.79      0.75      0.77      3151\n",
            "\n"
          ]
        }
      ]
    }
  ]
}