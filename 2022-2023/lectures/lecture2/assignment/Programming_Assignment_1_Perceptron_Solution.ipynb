{
  "nbformat": 4,
  "nbformat_minor": 0,
  "metadata": {
    "colab": {
      "provenance": []
    },
    "kernelspec": {
      "name": "python3",
      "display_name": "Python 3"
    },
    "language_info": {
      "name": "python"
    }
  },
  "cells": [
    {
      "cell_type": "markdown",
      "source": [
        "# Perceptron Algorithm for Text Classification\n",
        "\n",
        "January 6, 2023\n",
        "\n",
        "Contents of the notebook:\n",
        "\n",
        "- Implement Perceptron algorithm in Python from scratch\n",
        "- Train the model on the labeled data\n",
        "- Evaluate the model on the test dataset"
      ],
      "metadata": {
        "id": "jXVdWWeSnMV2"
      }
    },
    {
      "cell_type": "markdown",
      "source": [
        "## Task description\n",
        "\n",
        "- We will train a binary classification model to determine that a title is about a person. We will use the train dataset [here](https://raw.githubusercontent.com/neubig/nlptutorial/master/data/titles-en-train.labeled)\n",
        "- We will evaluate the model on a [test dataset](https://raw.githubusercontent.com/neubig/nlptutorial/master/data/titles-en-test.labeled). We use accuracy as the evaluation measure.\n",
        "\n"
      ],
      "metadata": {
        "id": "8DgcYjuppIOy"
      }
    },
    {
      "cell_type": "markdown",
      "source": [
        "## Downloading dataset"
      ],
      "metadata": {
        "id": "s1Omg1Q3qvIR"
      }
    },
    {
      "cell_type": "code",
      "source": [
        "%%capture\n",
        "!rm -f titles-en-train.labeled\n",
        "!rm -f titles-en-test.labeled\n",
        "\n",
        "!wget https://raw.githubusercontent.com/neubig/nlptutorial/master/data/titles-en-train.labeled\n",
        "!wget https://raw.githubusercontent.com/neubig/nlptutorial/master/data/titles-en-test.labeled"
      ],
      "metadata": {
        "id": "02B3tmGFqzO9"
      },
      "execution_count": null,
      "outputs": []
    },
    {
      "cell_type": "markdown",
      "source": [
        "Each sample is written in a line. There are two labels {1, -1} in the data.\n",
        "\n",
        "```\n",
        "1\tFUJIWARA no Chikamori ( year of birth and death unknown ) was a samurai and poet who lived at the end of the Heian period .\n",
        "-1\tYomi is the world of the dead .\n",
        "```"
      ],
      "metadata": {
        "id": "K-KDKP3krEVG"
      }
    },
    {
      "cell_type": "markdown",
      "source": [
        "## Loading Data\n",
        "\n",
        "We will load data into a list of sentences with their labels."
      ],
      "metadata": {
        "id": "sJx6VFrDrnet"
      }
    },
    {
      "cell_type": "code",
      "source": [
        "def load_data(file_path):\n",
        "    data = []\n",
        "    with open(file_path, 'r', encoding='utf-8', errors='ignore') as f:\n",
        "        for line in f:\n",
        "            line = line.strip()\n",
        "            if line == '':\n",
        "                continue\n",
        "            lb, text = line.split('\\t')\n",
        "            data.append((text,int(lb)))\n",
        "\n",
        "    return data"
      ],
      "metadata": {
        "id": "ImPi5e1ssUQd"
      },
      "execution_count": null,
      "outputs": []
    },
    {
      "cell_type": "markdown",
      "source": [
        "Loading data from files"
      ],
      "metadata": {
        "id": "vf7xFh3ltCx2"
      }
    },
    {
      "cell_type": "code",
      "source": [
        "train_data = load_data('./titles-en-train.labeled')\n",
        "test_data = load_data('./titles-en-test.labeled')"
      ],
      "metadata": {
        "id": "DGHFrGwzs-L7"
      },
      "execution_count": null,
      "outputs": []
    },
    {
      "cell_type": "code",
      "source": [
        "train_data[0]"
      ],
      "metadata": {
        "colab": {
          "base_uri": "https://localhost:8080/"
        },
        "id": "J3ji8asktL2h",
        "outputId": "f65a434b-17a9-4d03-b563-7eca2d57e070"
      },
      "execution_count": null,
      "outputs": [
        {
          "output_type": "execute_result",
          "data": {
            "text/plain": [
              "('FUJIWARA no Chikamori ( year of birth and death unknown ) was a samurai and poet who lived at the end of the Heian period .',\n",
              " 1)"
            ]
          },
          "metadata": {},
          "execution_count": 18
        }
      ]
    },
    {
      "cell_type": "markdown",
      "source": [
        "## Building Perceptron Model\n",
        "\n",
        "We will implement the class Perceptron with following methods:\n",
        "\n",
        "- `create_features`: to extract features from a sentence. For the sake of the simplicity, we will use unigram features\n",
        "- `train`: train the Perceptron model on the training data\n",
        "- `predict_one`: Predict the label for on sample\n",
        "- `predict_all`: Predict labels for all sentences in the test data"
      ],
      "metadata": {
        "id": "hvL6sL1Auvps"
      }
    },
    {
      "cell_type": "code",
      "source": [
        "\"\"\"\n",
        "Implementation of Perceptron model\n",
        "\"\"\"\n",
        "from collections import defaultdict\n",
        "\n",
        "class Perceptron:\n",
        "    \"\"\"Perceptron classifier\n",
        "    \"\"\"\n",
        "    def __init__(self, eta=0.001, n_iter=10):\n",
        "        self.eta = eta\n",
        "        self.n_iter = n_iter\n",
        "\n",
        "    def train(self, data):\n",
        "        \"\"\"Training the model\n",
        "\n",
        "        Parameters\n",
        "        ----------\n",
        "        data: list of tuples (x,y) where x is a sentence and y is the label\n",
        "\n",
        "        Returns\n",
        "        -------\n",
        "        self : object\n",
        "        \"\"\"\n",
        "        self.w = defaultdict(int)\n",
        "        for _ in range(self.n_iter):\n",
        "            for x, y in data:\n",
        "                phi = self.create_features(x)\n",
        "                y_pred = self.predict_one(self.w, phi)\n",
        "                if y != y_pred:\n",
        "                        self.update_weights(self.w, phi, y)\n",
        "\n",
        "    def predict_one(self, w, phi):\n",
        "        score = 0\n",
        "        for name, value in phi.items():\n",
        "            if name in w:\n",
        "                score += value * w[name]\n",
        "        if score >= 0:\n",
        "            return 1\n",
        "        else:\n",
        "            return -1\n",
        "\n",
        "    def create_features(self, x):\n",
        "        phi = defaultdict()\n",
        "        words = x.split()\n",
        "        for word in words:\n",
        "            phi[\"UNI:\" + word] = 1\n",
        "        return phi\n",
        "\n",
        "    def update_weights(self, w, phi, y):\n",
        "        for name, value in phi.items():\n",
        "            w[name] += value * y\n",
        "\n",
        "    def classify(self, x):\n",
        "        phi = self.create_features(x)\n",
        "        return self.predict_one(self.w, phi)\n",
        "\n",
        "    def predict_all(self, test_samples):\n",
        "        y_preds = []\n",
        "        for x in test_samples:\n",
        "            y_pred = self.classify(x)\n",
        "            y_preds.append(y_pred)\n",
        "        return y_preds"
      ],
      "metadata": {
        "id": "GxeJ6hE_wCCd"
      },
      "execution_count": null,
      "outputs": []
    },
    {
      "cell_type": "markdown",
      "source": [
        "## Training the model"
      ],
      "metadata": {
        "id": "Tt16CnHsKy-u"
      }
    },
    {
      "cell_type": "code",
      "source": [
        "model = Perceptron()\n",
        "model.train(train_data)"
      ],
      "metadata": {
        "id": "CU2f85Y1K6a-"
      },
      "execution_count": null,
      "outputs": []
    },
    {
      "cell_type": "markdown",
      "source": [
        "## Prediction"
      ],
      "metadata": {
        "id": "Iun_BU4GLB7m"
      }
    },
    {
      "cell_type": "code",
      "source": [
        "test_data[0]"
      ],
      "metadata": {
        "colab": {
          "base_uri": "https://localhost:8080/"
        },
        "id": "uGPvnuvjLz2u",
        "outputId": "8517708c-5ea3-477b-8d01-ba3f9c589a1d"
      },
      "execution_count": null,
      "outputs": [
        {
          "output_type": "execute_result",
          "data": {
            "text/plain": [
              "('Bojo family were kuge ( court nobles ) with kakaku ( family status ) of meike ( the fourth highest status for court nobles ) .',\n",
              " -1)"
            ]
          },
          "metadata": {},
          "execution_count": 23
        }
      ]
    },
    {
      "cell_type": "code",
      "source": [
        "model.classify(test_data[0][0])"
      ],
      "metadata": {
        "colab": {
          "base_uri": "https://localhost:8080/"
        },
        "id": "cEHSvd52MIlj",
        "outputId": "45dfe8ed-12f2-4e52-95e9-e66e4e0d0e73"
      },
      "execution_count": null,
      "outputs": [
        {
          "output_type": "execute_result",
          "data": {
            "text/plain": [
              "-1"
            ]
          },
          "metadata": {},
          "execution_count": 24
        }
      ]
    },
    {
      "cell_type": "code",
      "source": [
        "test_data[1]"
      ],
      "metadata": {
        "colab": {
          "base_uri": "https://localhost:8080/"
        },
        "id": "BnFK91LpMNO6",
        "outputId": "f8ba64be-83ef-4753-f07a-e0aaa555923d"
      },
      "execution_count": null,
      "outputs": [
        {
          "output_type": "execute_result",
          "data": {
            "text/plain": [
              "('Kotaifujin ( also called Sumemioya ) means a person who was the biological mother of an Emperor and consort of the previous Emperor .',\n",
              " 1)"
            ]
          },
          "metadata": {},
          "execution_count": 25
        }
      ]
    },
    {
      "cell_type": "code",
      "source": [
        "model.classify(test_data[1][0])"
      ],
      "metadata": {
        "colab": {
          "base_uri": "https://localhost:8080/"
        },
        "id": "_FJMB1GKMO6x",
        "outputId": "f867e4ed-8eb6-426c-94fb-3ee716586bbc"
      },
      "execution_count": null,
      "outputs": [
        {
          "output_type": "execute_result",
          "data": {
            "text/plain": [
              "1"
            ]
          },
          "metadata": {},
          "execution_count": 26
        }
      ]
    },
    {
      "cell_type": "markdown",
      "source": [
        "## Evaluation"
      ],
      "metadata": {
        "id": "IFNRjX6WMRDK"
      }
    },
    {
      "cell_type": "code",
      "source": [
        "from sklearn import metrics\n",
        "\n",
        "X_test, y_true = zip(*test_data)\n",
        "y_preds = model.predict_all(X_test)\n",
        "\n",
        "print(\"Accuracy: \", metrics.accuracy_score(y_true, y_preds))"
      ],
      "metadata": {
        "colab": {
          "base_uri": "https://localhost:8080/"
        },
        "id": "EHu9U_EDM5Fn",
        "outputId": "c6004935-f84e-4839-df14-4b64088dfdc8"
      },
      "execution_count": null,
      "outputs": [
        {
          "output_type": "stream",
          "name": "stdout",
          "text": [
            "Accuracy:  0.932695713779667\n"
          ]
        }
      ]
    },
    {
      "cell_type": "code",
      "source": [],
      "metadata": {
        "id": "i5Qkxw2oNFJG"
      },
      "execution_count": null,
      "outputs": []
    }
  ]
}